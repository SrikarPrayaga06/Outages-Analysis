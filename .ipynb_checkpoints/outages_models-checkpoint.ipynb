{
 "cells": [
  {
   "cell_type": "markdown",
   "metadata": {},
   "source": [
    "# Power Outages\n",
    "* **See the main project notebook for instructions to be sure you satisfy the rubric!**\n",
    "* See Project 03 for information on the dataset.\n",
    "* A few example prediction questions to pursue are listed below. However, don't limit yourself to them!\n",
    "    * Predict the severity (number of customers, duration, or demand loss) of a major power outage.\n",
    "    * Predict the cause of a major power outage.\n",
    "    * Predict the number and/or severity of major power outages in the year 2020.\n",
    "    * Predict the electricity consumption of an area.\n",
    "\n",
    "Be careful to justify what information you would know at the \"time of prediction\" and train your model using only those features."
   ]
  },
  {
   "cell_type": "markdown",
   "metadata": {},
   "source": [
    "# Summary of Findings\n",
    "\n",
    "\n",
    "### Introduction\n",
    "Prediction Problem: Predict the severity in terms of outage duration during a major power loss.\n",
    "This regression problem was solved with the target variable 'OUTAGE.DURATION' with duration being measured in terms of minutes. \n",
    "Evaluation Metric: RMSE was used as the evaluation metric to test whether using more features would have an impact on improving the prediction model. \n",
    "\n",
    "\n",
    "### Baseline Model\n",
    "TODO\n",
    "\n",
    "### Final Model\n",
    "TODO\n",
    "\n",
    "### Fairness Evaluation\n",
    "The model was evaluated for fairness using outages that were caused by equipment failure. A permutation test was preformed using RMSE as the parity measure. With a p-value of < 0.05 we can say that our model is fair twoards outages that were caused by equipment failure."
   ]
  },
  {
   "cell_type": "markdown",
   "metadata": {},
   "source": [
    "# Code"
   ]
  },
  {
   "cell_type": "code",
   "execution_count": 1,
   "metadata": {},
   "outputs": [],
   "source": [
    "import matplotlib.pyplot as plt\n",
    "import numpy as np\n",
    "import os\n",
    "import pandas as pd\n",
    "import seaborn as sns\n",
    "%matplotlib inline\n",
    "%config InlineBackend.figure_format = 'retina'  # Higher resolution figures"
   ]
  },
  {
   "cell_type": "code",
   "execution_count": 2,
   "metadata": {},
   "outputs": [
    {
     "data": {
      "text/html": [
       "<div>\n",
       "<style scoped>\n",
       "    .dataframe tbody tr th:only-of-type {\n",
       "        vertical-align: middle;\n",
       "    }\n",
       "\n",
       "    .dataframe tbody tr th {\n",
       "        vertical-align: top;\n",
       "    }\n",
       "\n",
       "    .dataframe thead th {\n",
       "        text-align: right;\n",
       "    }\n",
       "</style>\n",
       "<table border=\"1\" class=\"dataframe\">\n",
       "  <thead>\n",
       "    <tr style=\"text-align: right;\">\n",
       "      <th></th>\n",
       "      <th>YEAR</th>\n",
       "      <th>MONTH</th>\n",
       "      <th>U.S._STATE</th>\n",
       "      <th>POSTAL.CODE</th>\n",
       "      <th>NERC.REGION</th>\n",
       "      <th>CLIMATE.REGION</th>\n",
       "      <th>ANOMALY.LEVEL</th>\n",
       "      <th>CLIMATE.CATEGORY</th>\n",
       "      <th>OUTAGE.START.DATE</th>\n",
       "      <th>OUTAGE.START.TIME</th>\n",
       "      <th>...</th>\n",
       "      <th>POPPCT_URBAN</th>\n",
       "      <th>POPPCT_UC</th>\n",
       "      <th>POPDEN_URBAN</th>\n",
       "      <th>POPDEN_UC</th>\n",
       "      <th>POPDEN_RURAL</th>\n",
       "      <th>AREAPCT_URBAN</th>\n",
       "      <th>AREAPCT_UC</th>\n",
       "      <th>PCT_LAND</th>\n",
       "      <th>PCT_WATER_TOT</th>\n",
       "      <th>PCT_WATER_INLAND</th>\n",
       "    </tr>\n",
       "  </thead>\n",
       "  <tbody>\n",
       "    <tr>\n",
       "      <th>0</th>\n",
       "      <td>2011.0</td>\n",
       "      <td>7.0</td>\n",
       "      <td>Minnesota</td>\n",
       "      <td>MN</td>\n",
       "      <td>MRO</td>\n",
       "      <td>East North Central</td>\n",
       "      <td>-0.3</td>\n",
       "      <td>normal</td>\n",
       "      <td>2011-07-01 00:00:00</td>\n",
       "      <td>17:00:00</td>\n",
       "      <td>...</td>\n",
       "      <td>73.27</td>\n",
       "      <td>15.28</td>\n",
       "      <td>2279</td>\n",
       "      <td>1700.5</td>\n",
       "      <td>18.2</td>\n",
       "      <td>2.14</td>\n",
       "      <td>0.6</td>\n",
       "      <td>91.5927</td>\n",
       "      <td>8.40733</td>\n",
       "      <td>5.47874</td>\n",
       "    </tr>\n",
       "    <tr>\n",
       "      <th>1</th>\n",
       "      <td>2014.0</td>\n",
       "      <td>5.0</td>\n",
       "      <td>Minnesota</td>\n",
       "      <td>MN</td>\n",
       "      <td>MRO</td>\n",
       "      <td>East North Central</td>\n",
       "      <td>-0.1</td>\n",
       "      <td>normal</td>\n",
       "      <td>2014-05-11 00:00:00</td>\n",
       "      <td>18:38:00</td>\n",
       "      <td>...</td>\n",
       "      <td>73.27</td>\n",
       "      <td>15.28</td>\n",
       "      <td>2279</td>\n",
       "      <td>1700.5</td>\n",
       "      <td>18.2</td>\n",
       "      <td>2.14</td>\n",
       "      <td>0.6</td>\n",
       "      <td>91.5927</td>\n",
       "      <td>8.40733</td>\n",
       "      <td>5.47874</td>\n",
       "    </tr>\n",
       "    <tr>\n",
       "      <th>2</th>\n",
       "      <td>2010.0</td>\n",
       "      <td>10.0</td>\n",
       "      <td>Minnesota</td>\n",
       "      <td>MN</td>\n",
       "      <td>MRO</td>\n",
       "      <td>East North Central</td>\n",
       "      <td>-1.5</td>\n",
       "      <td>cold</td>\n",
       "      <td>2010-10-26 00:00:00</td>\n",
       "      <td>20:00:00</td>\n",
       "      <td>...</td>\n",
       "      <td>73.27</td>\n",
       "      <td>15.28</td>\n",
       "      <td>2279</td>\n",
       "      <td>1700.5</td>\n",
       "      <td>18.2</td>\n",
       "      <td>2.14</td>\n",
       "      <td>0.6</td>\n",
       "      <td>91.5927</td>\n",
       "      <td>8.40733</td>\n",
       "      <td>5.47874</td>\n",
       "    </tr>\n",
       "    <tr>\n",
       "      <th>3</th>\n",
       "      <td>2012.0</td>\n",
       "      <td>6.0</td>\n",
       "      <td>Minnesota</td>\n",
       "      <td>MN</td>\n",
       "      <td>MRO</td>\n",
       "      <td>East North Central</td>\n",
       "      <td>-0.1</td>\n",
       "      <td>normal</td>\n",
       "      <td>2012-06-19 00:00:00</td>\n",
       "      <td>04:30:00</td>\n",
       "      <td>...</td>\n",
       "      <td>73.27</td>\n",
       "      <td>15.28</td>\n",
       "      <td>2279</td>\n",
       "      <td>1700.5</td>\n",
       "      <td>18.2</td>\n",
       "      <td>2.14</td>\n",
       "      <td>0.6</td>\n",
       "      <td>91.5927</td>\n",
       "      <td>8.40733</td>\n",
       "      <td>5.47874</td>\n",
       "    </tr>\n",
       "    <tr>\n",
       "      <th>4</th>\n",
       "      <td>2015.0</td>\n",
       "      <td>7.0</td>\n",
       "      <td>Minnesota</td>\n",
       "      <td>MN</td>\n",
       "      <td>MRO</td>\n",
       "      <td>East North Central</td>\n",
       "      <td>1.2</td>\n",
       "      <td>warm</td>\n",
       "      <td>2015-07-18 00:00:00</td>\n",
       "      <td>02:00:00</td>\n",
       "      <td>...</td>\n",
       "      <td>73.27</td>\n",
       "      <td>15.28</td>\n",
       "      <td>2279</td>\n",
       "      <td>1700.5</td>\n",
       "      <td>18.2</td>\n",
       "      <td>2.14</td>\n",
       "      <td>0.6</td>\n",
       "      <td>91.5927</td>\n",
       "      <td>8.40733</td>\n",
       "      <td>5.47874</td>\n",
       "    </tr>\n",
       "  </tbody>\n",
       "</table>\n",
       "<p>5 rows × 55 columns</p>\n",
       "</div>"
      ],
      "text/plain": [
       "     YEAR  MONTH U.S._STATE POSTAL.CODE NERC.REGION      CLIMATE.REGION  \\\n",
       "0  2011.0    7.0  Minnesota          MN         MRO  East North Central   \n",
       "1  2014.0    5.0  Minnesota          MN         MRO  East North Central   \n",
       "2  2010.0   10.0  Minnesota          MN         MRO  East North Central   \n",
       "3  2012.0    6.0  Minnesota          MN         MRO  East North Central   \n",
       "4  2015.0    7.0  Minnesota          MN         MRO  East North Central   \n",
       "\n",
       "  ANOMALY.LEVEL CLIMATE.CATEGORY    OUTAGE.START.DATE OUTAGE.START.TIME  ...  \\\n",
       "0          -0.3           normal  2011-07-01 00:00:00          17:00:00  ...   \n",
       "1          -0.1           normal  2014-05-11 00:00:00          18:38:00  ...   \n",
       "2          -1.5             cold  2010-10-26 00:00:00          20:00:00  ...   \n",
       "3          -0.1           normal  2012-06-19 00:00:00          04:30:00  ...   \n",
       "4           1.2             warm  2015-07-18 00:00:00          02:00:00  ...   \n",
       "\n",
       "  POPPCT_URBAN POPPCT_UC POPDEN_URBAN POPDEN_UC POPDEN_RURAL AREAPCT_URBAN  \\\n",
       "0        73.27     15.28         2279    1700.5         18.2          2.14   \n",
       "1        73.27     15.28         2279    1700.5         18.2          2.14   \n",
       "2        73.27     15.28         2279    1700.5         18.2          2.14   \n",
       "3        73.27     15.28         2279    1700.5         18.2          2.14   \n",
       "4        73.27     15.28         2279    1700.5         18.2          2.14   \n",
       "\n",
       "  AREAPCT_UC  PCT_LAND PCT_WATER_TOT PCT_WATER_INLAND  \n",
       "0        0.6   91.5927       8.40733          5.47874  \n",
       "1        0.6   91.5927       8.40733          5.47874  \n",
       "2        0.6   91.5927       8.40733          5.47874  \n",
       "3        0.6   91.5927       8.40733          5.47874  \n",
       "4        0.6   91.5927       8.40733          5.47874  \n",
       "\n",
       "[5 rows x 55 columns]"
      ]
     },
     "execution_count": 2,
     "metadata": {},
     "output_type": "execute_result"
    }
   ],
   "source": [
    "# read in outage df and format it \n",
    "# outages = pd.read_excel('/Users/srikarprayaga/Desktop/dsc80_class/projects/project05/outage.csv', header=5, usecols='c:BE').drop(0, axis=0).reset_index(drop=True)\n",
    "outages = pd.read_excel('outage', header=5, usecols='c:BE').drop(0, axis=0).reset_index(drop=True)\n",
    "outages.head()"
   ]
  },
  {
   "cell_type": "markdown",
   "metadata": {},
   "source": [
    "### Baseline Model"
   ]
  },
  {
   "cell_type": "code",
   "execution_count": 3,
   "metadata": {},
   "outputs": [
    {
     "data": {
      "text/html": [
       "<div>\n",
       "<style scoped>\n",
       "    .dataframe tbody tr th:only-of-type {\n",
       "        vertical-align: middle;\n",
       "    }\n",
       "\n",
       "    .dataframe tbody tr th {\n",
       "        vertical-align: top;\n",
       "    }\n",
       "\n",
       "    .dataframe thead th {\n",
       "        text-align: right;\n",
       "    }\n",
       "</style>\n",
       "<table border=\"1\" class=\"dataframe\">\n",
       "  <thead>\n",
       "    <tr style=\"text-align: right;\">\n",
       "      <th></th>\n",
       "      <th>MONTH</th>\n",
       "      <th>POSTAL.CODE</th>\n",
       "      <th>NERC.REGION</th>\n",
       "      <th>CLIMATE.REGION</th>\n",
       "      <th>ANOMALY.LEVEL</th>\n",
       "      <th>CAUSE.CATEGORY</th>\n",
       "      <th>OUTAGE.DURATION</th>\n",
       "    </tr>\n",
       "  </thead>\n",
       "  <tbody>\n",
       "    <tr>\n",
       "      <th>0</th>\n",
       "      <td>7.0</td>\n",
       "      <td>MN</td>\n",
       "      <td>MRO</td>\n",
       "      <td>East North Central</td>\n",
       "      <td>-0.3</td>\n",
       "      <td>severe weather</td>\n",
       "      <td>3060</td>\n",
       "    </tr>\n",
       "    <tr>\n",
       "      <th>1</th>\n",
       "      <td>5.0</td>\n",
       "      <td>MN</td>\n",
       "      <td>MRO</td>\n",
       "      <td>East North Central</td>\n",
       "      <td>-0.1</td>\n",
       "      <td>intentional attack</td>\n",
       "      <td>1</td>\n",
       "    </tr>\n",
       "    <tr>\n",
       "      <th>2</th>\n",
       "      <td>10.0</td>\n",
       "      <td>MN</td>\n",
       "      <td>MRO</td>\n",
       "      <td>East North Central</td>\n",
       "      <td>-1.5</td>\n",
       "      <td>severe weather</td>\n",
       "      <td>3000</td>\n",
       "    </tr>\n",
       "    <tr>\n",
       "      <th>3</th>\n",
       "      <td>6.0</td>\n",
       "      <td>MN</td>\n",
       "      <td>MRO</td>\n",
       "      <td>East North Central</td>\n",
       "      <td>-0.1</td>\n",
       "      <td>severe weather</td>\n",
       "      <td>2550</td>\n",
       "    </tr>\n",
       "    <tr>\n",
       "      <th>4</th>\n",
       "      <td>7.0</td>\n",
       "      <td>MN</td>\n",
       "      <td>MRO</td>\n",
       "      <td>East North Central</td>\n",
       "      <td>1.2</td>\n",
       "      <td>severe weather</td>\n",
       "      <td>1740</td>\n",
       "    </tr>\n",
       "    <tr>\n",
       "      <th>...</th>\n",
       "      <td>...</td>\n",
       "      <td>...</td>\n",
       "      <td>...</td>\n",
       "      <td>...</td>\n",
       "      <td>...</td>\n",
       "      <td>...</td>\n",
       "      <td>...</td>\n",
       "    </tr>\n",
       "    <tr>\n",
       "      <th>1529</th>\n",
       "      <td>12.0</td>\n",
       "      <td>ND</td>\n",
       "      <td>MRO</td>\n",
       "      <td>West North Central</td>\n",
       "      <td>-0.9</td>\n",
       "      <td>public appeal</td>\n",
       "      <td>720</td>\n",
       "    </tr>\n",
       "    <tr>\n",
       "      <th>1530</th>\n",
       "      <td>NaN</td>\n",
       "      <td>ND</td>\n",
       "      <td>MRO</td>\n",
       "      <td>West North Central</td>\n",
       "      <td>NaN</td>\n",
       "      <td>fuel supply emergency</td>\n",
       "      <td>NaN</td>\n",
       "    </tr>\n",
       "    <tr>\n",
       "      <th>1531</th>\n",
       "      <td>8.0</td>\n",
       "      <td>SD</td>\n",
       "      <td>RFC</td>\n",
       "      <td>West North Central</td>\n",
       "      <td>0.5</td>\n",
       "      <td>islanding</td>\n",
       "      <td>59</td>\n",
       "    </tr>\n",
       "    <tr>\n",
       "      <th>1532</th>\n",
       "      <td>8.0</td>\n",
       "      <td>SD</td>\n",
       "      <td>MRO</td>\n",
       "      <td>West North Central</td>\n",
       "      <td>0.5</td>\n",
       "      <td>islanding</td>\n",
       "      <td>181</td>\n",
       "    </tr>\n",
       "    <tr>\n",
       "      <th>1533</th>\n",
       "      <td>NaN</td>\n",
       "      <td>AK</td>\n",
       "      <td>ASCC</td>\n",
       "      <td>NaN</td>\n",
       "      <td>NaN</td>\n",
       "      <td>equipment failure</td>\n",
       "      <td>NaN</td>\n",
       "    </tr>\n",
       "  </tbody>\n",
       "</table>\n",
       "<p>1534 rows × 7 columns</p>\n",
       "</div>"
      ],
      "text/plain": [
       "      MONTH POSTAL.CODE NERC.REGION      CLIMATE.REGION ANOMALY.LEVEL  \\\n",
       "0       7.0          MN         MRO  East North Central          -0.3   \n",
       "1       5.0          MN         MRO  East North Central          -0.1   \n",
       "2      10.0          MN         MRO  East North Central          -1.5   \n",
       "3       6.0          MN         MRO  East North Central          -0.1   \n",
       "4       7.0          MN         MRO  East North Central           1.2   \n",
       "...     ...         ...         ...                 ...           ...   \n",
       "1529   12.0          ND         MRO  West North Central          -0.9   \n",
       "1530    NaN          ND         MRO  West North Central           NaN   \n",
       "1531    8.0          SD         RFC  West North Central           0.5   \n",
       "1532    8.0          SD         MRO  West North Central           0.5   \n",
       "1533    NaN          AK        ASCC                 NaN           NaN   \n",
       "\n",
       "             CAUSE.CATEGORY OUTAGE.DURATION  \n",
       "0            severe weather            3060  \n",
       "1        intentional attack               1  \n",
       "2            severe weather            3000  \n",
       "3            severe weather            2550  \n",
       "4            severe weather            1740  \n",
       "...                     ...             ...  \n",
       "1529          public appeal             720  \n",
       "1530  fuel supply emergency             NaN  \n",
       "1531              islanding              59  \n",
       "1532              islanding             181  \n",
       "1533      equipment failure             NaN  \n",
       "\n",
       "[1534 rows x 7 columns]"
      ]
     },
     "execution_count": 3,
     "metadata": {},
     "output_type": "execute_result"
    }
   ],
   "source": [
    "# select the specific columns for baseline model\n",
    "# baseline model: predict outage duration using nominal variables such as outage cause, climate region and location.\n",
    "base = outages[['MONTH', 'POSTAL.CODE', 'NERC.REGION', 'CLIMATE.REGION', 'ANOMALY.LEVEL', 'CAUSE.CATEGORY', 'OUTAGE.DURATION']]\n",
    "base"
   ]
  },
  {
   "cell_type": "code",
   "execution_count": 4,
   "metadata": {},
   "outputs": [
    {
     "name": "stderr",
     "output_type": "stream",
     "text": [
      "<ipython-input-4-eea4f1edbdd4>:5: SettingWithCopyWarning: \n",
      "A value is trying to be set on a copy of a slice from a DataFrame.\n",
      "Try using .loc[row_indexer,col_indexer] = value instead\n",
      "\n",
      "See the caveats in the documentation: https://urldefense.com/v3/__https://pandas.pydata.org/pandas-docs/stable/user_guide/indexing.html*returning-a-view-versus-a-copy*5Cn__;IyU!!Mih3wA!XJa9F39pmSf_nhV27H1LR1J0uXaExEP2eq5otQzJswCK73ziP7kkb_Sb5qtS9We8$   base['CLIMATE.REGION'] = base[['CLIMATE.REGION']].fillna('International')\n"
     ]
    },
    {
     "data": {
      "text/plain": [
       "Northeast             344\n",
       "South                 218\n",
       "West                  205\n",
       "Central               191\n",
       "Southeast             150\n",
       "East North Central    137\n",
       "Northwest             122\n",
       "Southwest              88\n",
       "West North Central     16\n",
       "International           5\n",
       "Name: CLIMATE.REGION, dtype: int64"
      ]
     },
     "execution_count": 4,
     "metadata": {},
     "output_type": "execute_result"
    }
   ],
   "source": [
    "# general cleaning i.e removing null values and imputation as required\n",
    "#drop null vals from outage duration\n",
    "base = base.dropna(subset=['OUTAGE.DURATION'])\n",
    "#\n",
    "base['CLIMATE.REGION'] = base[['CLIMATE.REGION']].fillna('International')\n",
    "base['CLIMATE.REGION'].value_counts()"
   ]
  },
  {
   "cell_type": "code",
   "execution_count": null,
   "metadata": {},
   "outputs": [],
   "source": []
  },
  {
   "cell_type": "code",
   "execution_count": 5,
   "metadata": {},
   "outputs": [],
   "source": [
    "# general imports\n",
    "from sklearn.preprocessing import OneHotEncoder\n",
    "from sklearn.pipeline import Pipeline\n",
    "from sklearn.compose import ColumnTransformer\n",
    "from sklearn.linear_model import LinearRegression\n",
    "from sklearn.model_selection import train_test_split"
   ]
  },
  {
   "cell_type": "code",
   "execution_count": 6,
   "metadata": {},
   "outputs": [],
   "source": [
    "# simple pipeline for one hot encoding and linear regression\n",
    "pl = Pipeline([\n",
    "        ('one-hot', OneHotEncoder(handle_unknown = 'ignore')),\n",
    "        ('lin-reg', LinearRegression())\n",
    "    ])"
   ]
  },
  {
   "cell_type": "code",
   "execution_count": 7,
   "metadata": {},
   "outputs": [],
   "source": [
    "# set up paramaters for test_train split\n",
    "X = base.drop('OUTAGE.DURATION', 1)\n",
    "y = base['OUTAGE.DURATION']"
   ]
  },
  {
   "cell_type": "code",
   "execution_count": 8,
   "metadata": {},
   "outputs": [],
   "source": [
    "# create the test and training subsets\n",
    "X_train, X_test, y_train, y_test = train_test_split(X, y) "
   ]
  },
  {
   "cell_type": "code",
   "execution_count": 9,
   "metadata": {},
   "outputs": [
    {
     "data": {
      "text/plain": [
       "(0.34502571198124, -0.11734409666391965)"
      ]
     },
     "execution_count": 9,
     "metadata": {},
     "output_type": "execute_result"
    }
   ],
   "source": [
    "# comparing scores on  fit  model \n",
    "pl.fit(X_train, y_train)\n",
    "pl.score(X_train, y_train), pl.score(X_test, y_test)"
   ]
  },
  {
   "cell_type": "code",
   "execution_count": 10,
   "metadata": {},
   "outputs": [
    {
     "data": {
      "text/plain": [
       "(4715.390676827769, 6625.072044334308)"
      ]
     },
     "execution_count": 10,
     "metadata": {},
     "output_type": "execute_result"
    }
   ],
   "source": [
    "# calculate rmse on train and test \n",
    "def RMSE(predictions, actual):\n",
    "    return np.sqrt(np.mean((predictions - actual)**2))\n",
    "\n",
    "train_rmse = RMSE(pl.predict(X_train), y_train)\n",
    "test_rmse = RMSE(pl.predict(X_test), y_test)\n",
    "train_rmse, test_rmse"
   ]
  },
  {
   "cell_type": "code",
   "execution_count": 11,
   "metadata": {},
   "outputs": [],
   "source": [
    "# calculate scores for plotting\n",
    "x = []\n",
    "test_rmse_list = []\n",
    "\n",
    "for i in range(100):\n",
    "    result = {\n",
    "        'train_rmse':[],\n",
    "        'test_rmse':[]\n",
    "    }\n",
    "\n",
    "    for _ in range(50):\n",
    "        X_train, X_test, y_train, y_test = train_test_split(X, y) \n",
    "        pl.fit(X_train, y_train)\n",
    "\n",
    "        train_rmse = RMSE(pl.predict(X_train), y_train)\n",
    "        test_rmse = RMSE(pl.predict(X_test), y_test)\n",
    "        test_rmse_list.append(test_rmse)\n",
    "\n",
    "        result['train_rmse'].append(train_rmse)\n",
    "        result['test_rmse'].append(test_rmse)\n",
    "\n",
    "        percent = (np.array(result['test_rmse']) < np.array(result['train_rmse'])).sum() / 100\n",
    "\n",
    "        x.append(percent)"
   ]
  },
  {
   "cell_type": "code",
   "execution_count": 12,
   "metadata": {},
   "outputs": [
    {
     "data": {
      "text/plain": [
       "<matplotlib.axes._subplots.AxesSubplot at 0x25008208f40>"
      ]
     },
     "execution_count": 12,
     "metadata": {},
     "output_type": "execute_result"
    },
    {
     "data": {
      "image/png": "[encoded data removed]",
      "text/plain": [
       "<Figure size 432x288 with 1 Axes>"
      ]
     },
     "metadata": {
      "image/png": {
       "height": 248,
       "width": 362
      },
      "needs_background": "light"
     },
     "output_type": "display_data"
    }
   ],
   "source": [
    "sns.distplot(x)"
   ]
  },
  {
   "cell_type": "code",
   "execution_count": 13,
   "metadata": {},
   "outputs": [
    {
     "data": {
      "text/plain": [
       "5628.744759828363"
      ]
     },
     "execution_count": 13,
     "metadata": {},
     "output_type": "execute_result"
    }
   ],
   "source": [
    "sum(test_rmse_list) / len(test_rmse_list) "
   ]
  },
  {
   "cell_type": "markdown",
   "metadata": {},
   "source": [
    "### Final Model"
   ]
  },
  {
   "cell_type": "code",
   "execution_count": 14,
   "metadata": {},
   "outputs": [
    {
     "data": {
      "text/html": [
       "<div>\n",
       "<style scoped>\n",
       "    .dataframe tbody tr th:only-of-type {\n",
       "        vertical-align: middle;\n",
       "    }\n",
       "\n",
       "    .dataframe tbody tr th {\n",
       "        vertical-align: top;\n",
       "    }\n",
       "\n",
       "    .dataframe thead th {\n",
       "        text-align: right;\n",
       "    }\n",
       "</style>\n",
       "<table border=\"1\" class=\"dataframe\">\n",
       "  <thead>\n",
       "    <tr style=\"text-align: right;\">\n",
       "      <th></th>\n",
       "      <th>YEAR</th>\n",
       "      <th>MONTH</th>\n",
       "      <th>POSTAL.CODE</th>\n",
       "      <th>NERC.REGION</th>\n",
       "      <th>CLIMATE.REGION</th>\n",
       "      <th>ANOMALY.LEVEL</th>\n",
       "      <th>CAUSE.CATEGORY</th>\n",
       "      <th>OUTAGE.DURATION</th>\n",
       "      <th>RES.PRICE</th>\n",
       "      <th>COM.PRICE</th>\n",
       "      <th>...</th>\n",
       "      <th>COM.PERCEN</th>\n",
       "      <th>IND.PERCEN</th>\n",
       "      <th>RES.CUSTOMERS</th>\n",
       "      <th>COM.CUSTOMERS</th>\n",
       "      <th>IND.CUSTOMERS</th>\n",
       "      <th>TOTAL.CUSTOMERS</th>\n",
       "      <th>RES.CUST.PCT</th>\n",
       "      <th>COM.CUST.PCT</th>\n",
       "      <th>IND.CUST.PCT</th>\n",
       "      <th>POPULATION</th>\n",
       "    </tr>\n",
       "  </thead>\n",
       "  <tbody>\n",
       "    <tr>\n",
       "      <th>0</th>\n",
       "      <td>2011.0</td>\n",
       "      <td>7.0</td>\n",
       "      <td>MN</td>\n",
       "      <td>MRO</td>\n",
       "      <td>East North Central</td>\n",
       "      <td>-0.3</td>\n",
       "      <td>severe weather</td>\n",
       "      <td>3060</td>\n",
       "      <td>11.6</td>\n",
       "      <td>9.18</td>\n",
       "      <td>...</td>\n",
       "      <td>32.225</td>\n",
       "      <td>32.2024</td>\n",
       "      <td>2308736.0</td>\n",
       "      <td>276286.0</td>\n",
       "      <td>10673.0</td>\n",
       "      <td>2595696.0</td>\n",
       "      <td>88.9448</td>\n",
       "      <td>10.644</td>\n",
       "      <td>0.411181</td>\n",
       "      <td>5348119.0</td>\n",
       "    </tr>\n",
       "    <tr>\n",
       "      <th>1</th>\n",
       "      <td>2014.0</td>\n",
       "      <td>5.0</td>\n",
       "      <td>MN</td>\n",
       "      <td>MRO</td>\n",
       "      <td>East North Central</td>\n",
       "      <td>-0.1</td>\n",
       "      <td>intentional attack</td>\n",
       "      <td>1</td>\n",
       "      <td>12.12</td>\n",
       "      <td>9.71</td>\n",
       "      <td>...</td>\n",
       "      <td>34.2104</td>\n",
       "      <td>35.7276</td>\n",
       "      <td>2345860.0</td>\n",
       "      <td>284978.0</td>\n",
       "      <td>9898.0</td>\n",
       "      <td>2640737.0</td>\n",
       "      <td>88.8335</td>\n",
       "      <td>10.7916</td>\n",
       "      <td>0.37482</td>\n",
       "      <td>5457125.0</td>\n",
       "    </tr>\n",
       "    <tr>\n",
       "      <th>2</th>\n",
       "      <td>2010.0</td>\n",
       "      <td>10.0</td>\n",
       "      <td>MN</td>\n",
       "      <td>MRO</td>\n",
       "      <td>East North Central</td>\n",
       "      <td>-1.5</td>\n",
       "      <td>severe weather</td>\n",
       "      <td>3000</td>\n",
       "      <td>10.87</td>\n",
       "      <td>8.19</td>\n",
       "      <td>...</td>\n",
       "      <td>34.501</td>\n",
       "      <td>37.366</td>\n",
       "      <td>2300291.0</td>\n",
       "      <td>276463.0</td>\n",
       "      <td>10150.0</td>\n",
       "      <td>2586905.0</td>\n",
       "      <td>88.9206</td>\n",
       "      <td>10.687</td>\n",
       "      <td>0.392361</td>\n",
       "      <td>5310903.0</td>\n",
       "    </tr>\n",
       "    <tr>\n",
       "      <th>3</th>\n",
       "      <td>2012.0</td>\n",
       "      <td>6.0</td>\n",
       "      <td>MN</td>\n",
       "      <td>MRO</td>\n",
       "      <td>East North Central</td>\n",
       "      <td>-0.1</td>\n",
       "      <td>severe weather</td>\n",
       "      <td>2550</td>\n",
       "      <td>11.79</td>\n",
       "      <td>9.25</td>\n",
       "      <td>...</td>\n",
       "      <td>33.5433</td>\n",
       "      <td>34.4393</td>\n",
       "      <td>2317336.0</td>\n",
       "      <td>278466.0</td>\n",
       "      <td>11010.0</td>\n",
       "      <td>2606813.0</td>\n",
       "      <td>88.8954</td>\n",
       "      <td>10.6822</td>\n",
       "      <td>0.422355</td>\n",
       "      <td>5380443.0</td>\n",
       "    </tr>\n",
       "    <tr>\n",
       "      <th>4</th>\n",
       "      <td>2015.0</td>\n",
       "      <td>7.0</td>\n",
       "      <td>MN</td>\n",
       "      <td>MRO</td>\n",
       "      <td>East North Central</td>\n",
       "      <td>1.2</td>\n",
       "      <td>severe weather</td>\n",
       "      <td>1740</td>\n",
       "      <td>13.07</td>\n",
       "      <td>10.16</td>\n",
       "      <td>...</td>\n",
       "      <td>36.2059</td>\n",
       "      <td>29.7795</td>\n",
       "      <td>2374674.0</td>\n",
       "      <td>289044.0</td>\n",
       "      <td>9812.0</td>\n",
       "      <td>2673531.0</td>\n",
       "      <td>88.8216</td>\n",
       "      <td>10.8113</td>\n",
       "      <td>0.367005</td>\n",
       "      <td>5489594.0</td>\n",
       "    </tr>\n",
       "    <tr>\n",
       "      <th>...</th>\n",
       "      <td>...</td>\n",
       "      <td>...</td>\n",
       "      <td>...</td>\n",
       "      <td>...</td>\n",
       "      <td>...</td>\n",
       "      <td>...</td>\n",
       "      <td>...</td>\n",
       "      <td>...</td>\n",
       "      <td>...</td>\n",
       "      <td>...</td>\n",
       "      <td>...</td>\n",
       "      <td>...</td>\n",
       "      <td>...</td>\n",
       "      <td>...</td>\n",
       "      <td>...</td>\n",
       "      <td>...</td>\n",
       "      <td>...</td>\n",
       "      <td>...</td>\n",
       "      <td>...</td>\n",
       "      <td>...</td>\n",
       "      <td>...</td>\n",
       "    </tr>\n",
       "    <tr>\n",
       "      <th>1529</th>\n",
       "      <td>2011.0</td>\n",
       "      <td>12.0</td>\n",
       "      <td>ND</td>\n",
       "      <td>MRO</td>\n",
       "      <td>West North Central</td>\n",
       "      <td>-0.9</td>\n",
       "      <td>public appeal</td>\n",
       "      <td>720</td>\n",
       "      <td>8.41</td>\n",
       "      <td>7.8</td>\n",
       "      <td>...</td>\n",
       "      <td>33.3516</td>\n",
       "      <td>29.4359</td>\n",
       "      <td>330738.0</td>\n",
       "      <td>60017.0</td>\n",
       "      <td>3639.0</td>\n",
       "      <td>394394.0</td>\n",
       "      <td>83.8598</td>\n",
       "      <td>15.2175</td>\n",
       "      <td>0.922681</td>\n",
       "      <td>685326.0</td>\n",
       "    </tr>\n",
       "    <tr>\n",
       "      <th>1530</th>\n",
       "      <td>2006.0</td>\n",
       "      <td>NaN</td>\n",
       "      <td>ND</td>\n",
       "      <td>MRO</td>\n",
       "      <td>West North Central</td>\n",
       "      <td>NaN</td>\n",
       "      <td>fuel supply emergency</td>\n",
       "      <td>NaN</td>\n",
       "      <td>NaN</td>\n",
       "      <td>NaN</td>\n",
       "      <td>...</td>\n",
       "      <td>NaN</td>\n",
       "      <td>NaN</td>\n",
       "      <td>309997.0</td>\n",
       "      <td>53709.0</td>\n",
       "      <td>2331.0</td>\n",
       "      <td>366037.0</td>\n",
       "      <td>84.6901</td>\n",
       "      <td>14.6731</td>\n",
       "      <td>0.636821</td>\n",
       "      <td>649422.0</td>\n",
       "    </tr>\n",
       "    <tr>\n",
       "      <th>1531</th>\n",
       "      <td>2009.0</td>\n",
       "      <td>8.0</td>\n",
       "      <td>SD</td>\n",
       "      <td>RFC</td>\n",
       "      <td>West North Central</td>\n",
       "      <td>0.5</td>\n",
       "      <td>islanding</td>\n",
       "      <td>59</td>\n",
       "      <td>9.25</td>\n",
       "      <td>7.47</td>\n",
       "      <td>...</td>\n",
       "      <td>40.1245</td>\n",
       "      <td>23.3111</td>\n",
       "      <td>367206.0</td>\n",
       "      <td>65971.0</td>\n",
       "      <td>3052.0</td>\n",
       "      <td>436229.0</td>\n",
       "      <td>84.1773</td>\n",
       "      <td>15.123</td>\n",
       "      <td>0.699633</td>\n",
       "      <td>807067.0</td>\n",
       "    </tr>\n",
       "    <tr>\n",
       "      <th>1532</th>\n",
       "      <td>2009.0</td>\n",
       "      <td>8.0</td>\n",
       "      <td>SD</td>\n",
       "      <td>MRO</td>\n",
       "      <td>West North Central</td>\n",
       "      <td>0.5</td>\n",
       "      <td>islanding</td>\n",
       "      <td>181</td>\n",
       "      <td>9.25</td>\n",
       "      <td>7.47</td>\n",
       "      <td>...</td>\n",
       "      <td>40.1245</td>\n",
       "      <td>23.3111</td>\n",
       "      <td>367206.0</td>\n",
       "      <td>65971.0</td>\n",
       "      <td>3052.0</td>\n",
       "      <td>436229.0</td>\n",
       "      <td>84.1773</td>\n",
       "      <td>15.123</td>\n",
       "      <td>0.699633</td>\n",
       "      <td>807067.0</td>\n",
       "    </tr>\n",
       "    <tr>\n",
       "      <th>1533</th>\n",
       "      <td>2000.0</td>\n",
       "      <td>NaN</td>\n",
       "      <td>AK</td>\n",
       "      <td>ASCC</td>\n",
       "      <td>NaN</td>\n",
       "      <td>NaN</td>\n",
       "      <td>equipment failure</td>\n",
       "      <td>NaN</td>\n",
       "      <td>NaN</td>\n",
       "      <td>NaN</td>\n",
       "      <td>...</td>\n",
       "      <td>NaN</td>\n",
       "      <td>NaN</td>\n",
       "      <td>230534.0</td>\n",
       "      <td>38074.0</td>\n",
       "      <td>854.0</td>\n",
       "      <td>273530.0</td>\n",
       "      <td>84.2811</td>\n",
       "      <td>13.9195</td>\n",
       "      <td>0.312214</td>\n",
       "      <td>627963.0</td>\n",
       "    </tr>\n",
       "  </tbody>\n",
       "</table>\n",
       "<p>1534 rows × 27 columns</p>\n",
       "</div>"
      ],
      "text/plain": [
       "        YEAR  MONTH POSTAL.CODE NERC.REGION      CLIMATE.REGION ANOMALY.LEVEL  \\\n",
       "0     2011.0    7.0          MN         MRO  East North Central          -0.3   \n",
       "1     2014.0    5.0          MN         MRO  East North Central          -0.1   \n",
       "2     2010.0   10.0          MN         MRO  East North Central          -1.5   \n",
       "3     2012.0    6.0          MN         MRO  East North Central          -0.1   \n",
       "4     2015.0    7.0          MN         MRO  East North Central           1.2   \n",
       "...      ...    ...         ...         ...                 ...           ...   \n",
       "1529  2011.0   12.0          ND         MRO  West North Central          -0.9   \n",
       "1530  2006.0    NaN          ND         MRO  West North Central           NaN   \n",
       "1531  2009.0    8.0          SD         RFC  West North Central           0.5   \n",
       "1532  2009.0    8.0          SD         MRO  West North Central           0.5   \n",
       "1533  2000.0    NaN          AK        ASCC                 NaN           NaN   \n",
       "\n",
       "             CAUSE.CATEGORY OUTAGE.DURATION RES.PRICE COM.PRICE  ...  \\\n",
       "0            severe weather            3060      11.6      9.18  ...   \n",
       "1        intentional attack               1     12.12      9.71  ...   \n",
       "2            severe weather            3000     10.87      8.19  ...   \n",
       "3            severe weather            2550     11.79      9.25  ...   \n",
       "4            severe weather            1740     13.07     10.16  ...   \n",
       "...                     ...             ...       ...       ...  ...   \n",
       "1529          public appeal             720      8.41       7.8  ...   \n",
       "1530  fuel supply emergency             NaN       NaN       NaN  ...   \n",
       "1531              islanding              59      9.25      7.47  ...   \n",
       "1532              islanding             181      9.25      7.47  ...   \n",
       "1533      equipment failure             NaN       NaN       NaN  ...   \n",
       "\n",
       "     COM.PERCEN IND.PERCEN RES.CUSTOMERS COM.CUSTOMERS IND.CUSTOMERS  \\\n",
       "0        32.225    32.2024     2308736.0      276286.0       10673.0   \n",
       "1       34.2104    35.7276     2345860.0      284978.0        9898.0   \n",
       "2        34.501     37.366     2300291.0      276463.0       10150.0   \n",
       "3       33.5433    34.4393     2317336.0      278466.0       11010.0   \n",
       "4       36.2059    29.7795     2374674.0      289044.0        9812.0   \n",
       "...         ...        ...           ...           ...           ...   \n",
       "1529    33.3516    29.4359      330738.0       60017.0        3639.0   \n",
       "1530        NaN        NaN      309997.0       53709.0        2331.0   \n",
       "1531    40.1245    23.3111      367206.0       65971.0        3052.0   \n",
       "1532    40.1245    23.3111      367206.0       65971.0        3052.0   \n",
       "1533        NaN        NaN      230534.0       38074.0         854.0   \n",
       "\n",
       "     TOTAL.CUSTOMERS RES.CUST.PCT COM.CUST.PCT IND.CUST.PCT  POPULATION  \n",
       "0          2595696.0      88.9448       10.644     0.411181   5348119.0  \n",
       "1          2640737.0      88.8335      10.7916      0.37482   5457125.0  \n",
       "2          2586905.0      88.9206       10.687     0.392361   5310903.0  \n",
       "3          2606813.0      88.8954      10.6822     0.422355   5380443.0  \n",
       "4          2673531.0      88.8216      10.8113     0.367005   5489594.0  \n",
       "...              ...          ...          ...          ...         ...  \n",
       "1529        394394.0      83.8598      15.2175     0.922681    685326.0  \n",
       "1530        366037.0      84.6901      14.6731     0.636821    649422.0  \n",
       "1531        436229.0      84.1773       15.123     0.699633    807067.0  \n",
       "1532        436229.0      84.1773       15.123     0.699633    807067.0  \n",
       "1533        273530.0      84.2811      13.9195     0.312214    627963.0  \n",
       "\n",
       "[1534 rows x 27 columns]"
      ]
     },
     "execution_count": 14,
     "metadata": {},
     "output_type": "execute_result"
    }
   ],
   "source": [
    "# grab additional columns for final model\n",
    "new_columns = outages.columns[:45]\n",
    "remove_columns= list(new_columns[36:44]) + [new_columns[2]] + list(new_columns[7:12]) + list(new_columns[13:15]) + list(new_columns[16:18])\n",
    "final = outages[new_columns].drop(remove_columns, 1)\n",
    "final"
   ]
  },
  {
   "cell_type": "code",
   "execution_count": 15,
   "metadata": {},
   "outputs": [
    {
     "name": "stderr",
     "output_type": "stream",
     "text": [
      "<ipython-input-15-0e9679fddec3>:4: SettingWithCopyWarning: \n",
      "A value is trying to be set on a copy of a slice from a DataFrame.\n",
      "Try using .loc[row_indexer,col_indexer] = value instead\n",
      "\n",
      "See the caveats in the documentation: https://urldefense.com/v3/__https://pandas.pydata.org/pandas-docs/stable/user_guide/indexing.html*returning-a-view-versus-a-copy*5Cn__;IyU!!Mih3wA!XJa9F39pmSf_nhV27H1LR1J0uXaExEP2eq5otQzJswCK73ziP7kkb_Sb5qtS9We8$   final['CLIMATE.REGION'] = final[['CLIMATE.REGION']].fillna('International')\n"
     ]
    },
    {
     "data": {
      "text/plain": [
       "True"
      ]
     },
     "execution_count": 15,
     "metadata": {},
     "output_type": "execute_result"
    }
   ],
   "source": [
    "# drop null rows \n",
    "final = final.dropna(subset=['OUTAGE.DURATION', 'RES.PRICE'])\n",
    "# Null climate regions are filled with \"Interntional\" i.e outside US\n",
    "final['CLIMATE.REGION'] = final[['CLIMATE.REGION']].fillna('International')\n",
    "# Verify that there are no null alues\n",
    "final.isnull().sum().all() == 0"
   ]
  },
  {
   "cell_type": "code",
   "execution_count": 16,
   "metadata": {},
   "outputs": [],
   "source": [
    "# columns names with type object\n",
    "object_columns = ['ANOMALY.LEVEL'] + list(final.columns[7:])"
   ]
  },
  {
   "cell_type": "code",
   "execution_count": 17,
   "metadata": {},
   "outputs": [
    {
     "name": "stdout",
     "output_type": "stream",
     "text": [
      "<class 'pandas.core.frame.DataFrame'>\n",
      "Int64Index: 1464 entries, 0 to 1532\n",
      "Data columns (total 27 columns):\n",
      " #   Column           Non-Null Count  Dtype  \n",
      "---  ------           --------------  -----  \n",
      " 0   YEAR             1464 non-null   float64\n",
      " 1   MONTH            1464 non-null   float64\n",
      " 2   POSTAL.CODE      1464 non-null   object \n",
      " 3   NERC.REGION      1464 non-null   object \n",
      " 4   CLIMATE.REGION   1464 non-null   object \n",
      " 5   ANOMALY.LEVEL    1464 non-null   float64\n",
      " 6   CAUSE.CATEGORY   1464 non-null   object \n",
      " 7   OUTAGE.DURATION  1464 non-null   float64\n",
      " 8   RES.PRICE        1464 non-null   float64\n",
      " 9   COM.PRICE        1464 non-null   float64\n",
      " 10  IND.PRICE        1464 non-null   float64\n",
      " 11  TOTAL.PRICE      1464 non-null   float64\n",
      " 12  RES.SALES        1464 non-null   float64\n",
      " 13  COM.SALES        1464 non-null   float64\n",
      " 14  IND.SALES        1464 non-null   float64\n",
      " 15  TOTAL.SALES      1464 non-null   float64\n",
      " 16  RES.PERCEN       1464 non-null   float64\n",
      " 17  COM.PERCEN       1464 non-null   float64\n",
      " 18  IND.PERCEN       1464 non-null   float64\n",
      " 19  RES.CUSTOMERS    1464 non-null   float64\n",
      " 20  COM.CUSTOMERS    1464 non-null   float64\n",
      " 21  IND.CUSTOMERS    1464 non-null   float64\n",
      " 22  TOTAL.CUSTOMERS  1464 non-null   float64\n",
      " 23  RES.CUST.PCT     1464 non-null   float64\n",
      " 24  COM.CUST.PCT     1464 non-null   float64\n",
      " 25  IND.CUST.PCT     1464 non-null   float64\n",
      " 26  POPULATION       1464 non-null   float64\n",
      "dtypes: float64(23), object(4)\n",
      "memory usage: 320.2+ KB\n"
     ]
    },
    {
     "name": "stderr",
     "output_type": "stream",
     "text": [
      "<ipython-input-17-71103f1f8f9c>:3: SettingWithCopyWarning: \n",
      "A value is trying to be set on a copy of a slice from a DataFrame.\n",
      "Try using .loc[row_indexer,col_indexer] = value instead\n",
      "\n",
      "See the caveats in the documentation: https://urldefense.com/v3/__https://pandas.pydata.org/pandas-docs/stable/user_guide/indexing.html*returning-a-view-versus-a-copy*5Cn__;IyU!!Mih3wA!XJa9F39pmSf_nhV27H1LR1J0uXaExEP2eq5otQzJswCK73ziP7kkb_Sb5qtS9We8$   final[x] =  final[x].astype(float)\n"
     ]
    }
   ],
   "source": [
    "# casting the object columns to float64\n",
    "for x in object_columns:\n",
    "    final[x] =  final[x].astype(float)\n",
    "# verify that data types are appropriate \n",
    "final.info()"
   ]
  },
  {
   "cell_type": "code",
   "execution_count": 18,
   "metadata": {},
   "outputs": [
    {
     "name": "stderr",
     "output_type": "stream",
     "text": [
      "<ipython-input-18-71171723a462>:5: SettingWithCopyWarning: \n",
      "A value is trying to be set on a copy of a slice from a DataFrame.\n",
      "Try using .loc[row_indexer,col_indexer] = value instead\n",
      "\n",
      "See the caveats in the documentation: https://urldefense.com/v3/__https://pandas.pydata.org/pandas-docs/stable/user_guide/indexing.html*returning-a-view-versus-a-copy*5Cn__;IyU!!Mih3wA!XJa9F39pmSf_nhV27H1LR1J0uXaExEP2eq5otQzJswCK73ziP7kkb_Sb5qtS9We8$   final[x] = final[x]*1000\n"
     ]
    }
   ],
   "source": [
    "#####  ENGINEERED FEATURES\n",
    "# price data is converted to cents per megawatt per hour to keep it in line with consumption data\n",
    "price_cents = [x for x in final.columns if 'PRICE' in x]\n",
    "for x in price_cents:\n",
    "    final[x] = final[x]*1000"
   ]
  },
  {
   "cell_type": "code",
   "execution_count": 19,
   "metadata": {},
   "outputs": [
    {
     "name": "stderr",
     "output_type": "stream",
     "text": [
      "<ipython-input-19-020176bb7964>:4: SettingWithCopyWarning: \n",
      "A value is trying to be set on a copy of a slice from a DataFrame.\n",
      "Try using .loc[row_indexer,col_indexer] = value instead\n",
      "\n",
      "See the caveats in the documentation: https://urldefense.com/v3/__https://pandas.pydata.org/pandas-docs/stable/user_guide/indexing.html*returning-a-view-versus-a-copy*5Cn__;IyU!!Mih3wA!XJa9F39pmSf_nhV27H1LR1J0uXaExEP2eq5otQzJswCK73ziP7kkb_Sb5qtS9We8$   final[x] = final[x]/100\n"
     ]
    }
   ],
   "source": [
    "# convert % values to proprotions \n",
    "pct_value= [x for x in final.columns if ('PERCEN' in x ) or ('PCT' in x)]\n",
    "for x in pct_value:\n",
    "    final[x] = final[x]/100"
   ]
  },
  {
   "cell_type": "code",
   "execution_count": 20,
   "metadata": {},
   "outputs": [],
   "source": [
    "# Encode the columns below  \n",
    "one_hot = ['MONTH', 'POSTAL.CODE', 'NERC.REGION', 'CLIMATE.REGION', 'ANOMALY.LEVEL', 'CAUSE.CATEGORY']\n",
    "one_hot_encoder = Pipeline(steps=[\n",
    "    ('one-hot', OneHotEncoder(handle_unknown = 'ignore'))\n",
    "])"
   ]
  },
  {
   "cell_type": "code",
   "execution_count": 21,
   "metadata": {},
   "outputs": [],
   "source": [
    "preproc = ColumnTransformer(transformers=[('one-hot', one_hot_encoder, one_hot)], remainder='passthrough')"
   ]
  },
  {
   "cell_type": "code",
   "execution_count": 22,
   "metadata": {},
   "outputs": [
    {
     "data": {
      "text/html": [
       "<div>\n",
       "<style scoped>\n",
       "    .dataframe tbody tr th:only-of-type {\n",
       "        vertical-align: middle;\n",
       "    }\n",
       "\n",
       "    .dataframe tbody tr th {\n",
       "        vertical-align: top;\n",
       "    }\n",
       "\n",
       "    .dataframe thead th {\n",
       "        text-align: right;\n",
       "    }\n",
       "</style>\n",
       "<table border=\"1\" class=\"dataframe\">\n",
       "  <thead>\n",
       "    <tr style=\"text-align: right;\">\n",
       "      <th></th>\n",
       "      <th>YEAR</th>\n",
       "      <th>MONTH</th>\n",
       "      <th>POSTAL.CODE</th>\n",
       "      <th>NERC.REGION</th>\n",
       "      <th>CLIMATE.REGION</th>\n",
       "      <th>ANOMALY.LEVEL</th>\n",
       "      <th>CAUSE.CATEGORY</th>\n",
       "      <th>OUTAGE.DURATION</th>\n",
       "      <th>RES.PRICE</th>\n",
       "      <th>COM.PRICE</th>\n",
       "      <th>...</th>\n",
       "      <th>COM.PERCEN</th>\n",
       "      <th>IND.PERCEN</th>\n",
       "      <th>RES.CUSTOMERS</th>\n",
       "      <th>COM.CUSTOMERS</th>\n",
       "      <th>IND.CUSTOMERS</th>\n",
       "      <th>TOTAL.CUSTOMERS</th>\n",
       "      <th>RES.CUST.PCT</th>\n",
       "      <th>COM.CUST.PCT</th>\n",
       "      <th>IND.CUST.PCT</th>\n",
       "      <th>POPULATION</th>\n",
       "    </tr>\n",
       "  </thead>\n",
       "  <tbody>\n",
       "    <tr>\n",
       "      <th>0</th>\n",
       "      <td>2011.0</td>\n",
       "      <td>7.0</td>\n",
       "      <td>MN</td>\n",
       "      <td>MRO</td>\n",
       "      <td>East North Central</td>\n",
       "      <td>-0.3</td>\n",
       "      <td>severe weather</td>\n",
       "      <td>3060.0</td>\n",
       "      <td>11600.0</td>\n",
       "      <td>9180.0</td>\n",
       "      <td>...</td>\n",
       "      <td>0.322250</td>\n",
       "      <td>0.322024</td>\n",
       "      <td>2308736.0</td>\n",
       "      <td>276286.0</td>\n",
       "      <td>10673.0</td>\n",
       "      <td>2595696.0</td>\n",
       "      <td>0.889448</td>\n",
       "      <td>0.106440</td>\n",
       "      <td>0.004112</td>\n",
       "      <td>5348119.0</td>\n",
       "    </tr>\n",
       "    <tr>\n",
       "      <th>1</th>\n",
       "      <td>2014.0</td>\n",
       "      <td>5.0</td>\n",
       "      <td>MN</td>\n",
       "      <td>MRO</td>\n",
       "      <td>East North Central</td>\n",
       "      <td>-0.1</td>\n",
       "      <td>intentional attack</td>\n",
       "      <td>1.0</td>\n",
       "      <td>12120.0</td>\n",
       "      <td>9710.0</td>\n",
       "      <td>...</td>\n",
       "      <td>0.342104</td>\n",
       "      <td>0.357276</td>\n",
       "      <td>2345860.0</td>\n",
       "      <td>284978.0</td>\n",
       "      <td>9898.0</td>\n",
       "      <td>2640737.0</td>\n",
       "      <td>0.888335</td>\n",
       "      <td>0.107916</td>\n",
       "      <td>0.003748</td>\n",
       "      <td>5457125.0</td>\n",
       "    </tr>\n",
       "    <tr>\n",
       "      <th>2</th>\n",
       "      <td>2010.0</td>\n",
       "      <td>10.0</td>\n",
       "      <td>MN</td>\n",
       "      <td>MRO</td>\n",
       "      <td>East North Central</td>\n",
       "      <td>-1.5</td>\n",
       "      <td>severe weather</td>\n",
       "      <td>3000.0</td>\n",
       "      <td>10870.0</td>\n",
       "      <td>8190.0</td>\n",
       "      <td>...</td>\n",
       "      <td>0.345010</td>\n",
       "      <td>0.373660</td>\n",
       "      <td>2300291.0</td>\n",
       "      <td>276463.0</td>\n",
       "      <td>10150.0</td>\n",
       "      <td>2586905.0</td>\n",
       "      <td>0.889206</td>\n",
       "      <td>0.106870</td>\n",
       "      <td>0.003924</td>\n",
       "      <td>5310903.0</td>\n",
       "    </tr>\n",
       "    <tr>\n",
       "      <th>3</th>\n",
       "      <td>2012.0</td>\n",
       "      <td>6.0</td>\n",
       "      <td>MN</td>\n",
       "      <td>MRO</td>\n",
       "      <td>East North Central</td>\n",
       "      <td>-0.1</td>\n",
       "      <td>severe weather</td>\n",
       "      <td>2550.0</td>\n",
       "      <td>11790.0</td>\n",
       "      <td>9250.0</td>\n",
       "      <td>...</td>\n",
       "      <td>0.335433</td>\n",
       "      <td>0.344393</td>\n",
       "      <td>2317336.0</td>\n",
       "      <td>278466.0</td>\n",
       "      <td>11010.0</td>\n",
       "      <td>2606813.0</td>\n",
       "      <td>0.888954</td>\n",
       "      <td>0.106822</td>\n",
       "      <td>0.004224</td>\n",
       "      <td>5380443.0</td>\n",
       "    </tr>\n",
       "    <tr>\n",
       "      <th>4</th>\n",
       "      <td>2015.0</td>\n",
       "      <td>7.0</td>\n",
       "      <td>MN</td>\n",
       "      <td>MRO</td>\n",
       "      <td>East North Central</td>\n",
       "      <td>1.2</td>\n",
       "      <td>severe weather</td>\n",
       "      <td>1740.0</td>\n",
       "      <td>13070.0</td>\n",
       "      <td>10160.0</td>\n",
       "      <td>...</td>\n",
       "      <td>0.362059</td>\n",
       "      <td>0.297795</td>\n",
       "      <td>2374674.0</td>\n",
       "      <td>289044.0</td>\n",
       "      <td>9812.0</td>\n",
       "      <td>2673531.0</td>\n",
       "      <td>0.888216</td>\n",
       "      <td>0.108113</td>\n",
       "      <td>0.003670</td>\n",
       "      <td>5489594.0</td>\n",
       "    </tr>\n",
       "  </tbody>\n",
       "</table>\n",
       "<p>5 rows × 27 columns</p>\n",
       "</div>"
      ],
      "text/plain": [
       "     YEAR  MONTH POSTAL.CODE NERC.REGION      CLIMATE.REGION  ANOMALY.LEVEL  \\\n",
       "0  2011.0    7.0          MN         MRO  East North Central           -0.3   \n",
       "1  2014.0    5.0          MN         MRO  East North Central           -0.1   \n",
       "2  2010.0   10.0          MN         MRO  East North Central           -1.5   \n",
       "3  2012.0    6.0          MN         MRO  East North Central           -0.1   \n",
       "4  2015.0    7.0          MN         MRO  East North Central            1.2   \n",
       "\n",
       "       CAUSE.CATEGORY  OUTAGE.DURATION  RES.PRICE  COM.PRICE  ...  COM.PERCEN  \\\n",
       "0      severe weather           3060.0    11600.0     9180.0  ...    0.322250   \n",
       "1  intentional attack              1.0    12120.0     9710.0  ...    0.342104   \n",
       "2      severe weather           3000.0    10870.0     8190.0  ...    0.345010   \n",
       "3      severe weather           2550.0    11790.0     9250.0  ...    0.335433   \n",
       "4      severe weather           1740.0    13070.0    10160.0  ...    0.362059   \n",
       "\n",
       "   IND.PERCEN  RES.CUSTOMERS  COM.CUSTOMERS  IND.CUSTOMERS  TOTAL.CUSTOMERS  \\\n",
       "0    0.322024      2308736.0       276286.0        10673.0        2595696.0   \n",
       "1    0.357276      2345860.0       284978.0         9898.0        2640737.0   \n",
       "2    0.373660      2300291.0       276463.0        10150.0        2586905.0   \n",
       "3    0.344393      2317336.0       278466.0        11010.0        2606813.0   \n",
       "4    0.297795      2374674.0       289044.0         9812.0        2673531.0   \n",
       "\n",
       "   RES.CUST.PCT  COM.CUST.PCT  IND.CUST.PCT  POPULATION  \n",
       "0      0.889448      0.106440      0.004112   5348119.0  \n",
       "1      0.888335      0.107916      0.003748   5457125.0  \n",
       "2      0.889206      0.106870      0.003924   5310903.0  \n",
       "3      0.888954      0.106822      0.004224   5380443.0  \n",
       "4      0.888216      0.108113      0.003670   5489594.0  \n",
       "\n",
       "[5 rows x 27 columns]"
      ]
     },
     "execution_count": 22,
     "metadata": {},
     "output_type": "execute_result"
    }
   ],
   "source": [
    "final.head()"
   ]
  },
  {
   "cell_type": "code",
   "execution_count": 23,
   "metadata": {},
   "outputs": [],
   "source": [
    "# drop more vals  \n",
    "sales = [x for x in final.columns if 'SALES' in x]\n",
    "customers = [x for x in final.columns if 'CUSTOMERS' in x]\n",
    "final = final.drop(price_cents, 1)\n",
    "final = final.drop(sales, 1)\n",
    "final = final.drop(customers, 1)\n",
    "final2 = final[list(base.columns) + [x for x in final.columns if 'PERCEN' in x]]"
   ]
  },
  {
   "cell_type": "code",
   "execution_count": 24,
   "metadata": {},
   "outputs": [],
   "source": [
    "# get X and y for final model\n",
    "X = final2.drop('OUTAGE.DURATION', 1)\n",
    "y = final2['OUTAGE.DURATION']"
   ]
  },
  {
   "cell_type": "code",
   "execution_count": 25,
   "metadata": {},
   "outputs": [],
   "source": [
    "pl = Pipeline(steps=[('preprocessor', preproc), ('regressor', LinearRegression())])"
   ]
  },
  {
   "cell_type": "code",
   "execution_count": 26,
   "metadata": {},
   "outputs": [],
   "source": [
    "X_train, X_test, y_train, y_test = train_test_split(X, y)"
   ]
  },
  {
   "cell_type": "code",
   "execution_count": 27,
   "metadata": {},
   "outputs": [
    {
     "data": {
      "text/html": [
       "<div>\n",
       "<style scoped>\n",
       "    .dataframe tbody tr th:only-of-type {\n",
       "        vertical-align: middle;\n",
       "    }\n",
       "\n",
       "    .dataframe tbody tr th {\n",
       "        vertical-align: top;\n",
       "    }\n",
       "\n",
       "    .dataframe thead th {\n",
       "        text-align: right;\n",
       "    }\n",
       "</style>\n",
       "<table border=\"1\" class=\"dataframe\">\n",
       "  <thead>\n",
       "    <tr style=\"text-align: right;\">\n",
       "      <th></th>\n",
       "      <th>MONTH</th>\n",
       "      <th>POSTAL.CODE</th>\n",
       "      <th>NERC.REGION</th>\n",
       "      <th>CLIMATE.REGION</th>\n",
       "      <th>ANOMALY.LEVEL</th>\n",
       "      <th>CAUSE.CATEGORY</th>\n",
       "      <th>RES.PERCEN</th>\n",
       "      <th>COM.PERCEN</th>\n",
       "      <th>IND.PERCEN</th>\n",
       "    </tr>\n",
       "  </thead>\n",
       "  <tbody>\n",
       "    <tr>\n",
       "      <th>810</th>\n",
       "      <td>1.0</td>\n",
       "      <td>SC</td>\n",
       "      <td>SERC</td>\n",
       "      <td>Southeast</td>\n",
       "      <td>-1.6</td>\n",
       "      <td>severe weather</td>\n",
       "      <td>0.364497</td>\n",
       "      <td>0.205032</td>\n",
       "      <td>0.418922</td>\n",
       "    </tr>\n",
       "    <tr>\n",
       "      <th>1496</th>\n",
       "      <td>7.0</td>\n",
       "      <td>CO</td>\n",
       "      <td>WECC</td>\n",
       "      <td>Southwest</td>\n",
       "      <td>-0.3</td>\n",
       "      <td>system operability disruption</td>\n",
       "      <td>0.361385</td>\n",
       "      <td>0.366302</td>\n",
       "      <td>0.271576</td>\n",
       "    </tr>\n",
       "    <tr>\n",
       "      <th>1383</th>\n",
       "      <td>5.0</td>\n",
       "      <td>GA</td>\n",
       "      <td>SERC</td>\n",
       "      <td>Southeast</td>\n",
       "      <td>-0.7</td>\n",
       "      <td>severe weather</td>\n",
       "      <td>0.356934</td>\n",
       "      <td>0.370311</td>\n",
       "      <td>0.271463</td>\n",
       "    </tr>\n",
       "    <tr>\n",
       "      <th>963</th>\n",
       "      <td>2.0</td>\n",
       "      <td>NY</td>\n",
       "      <td>NPCC</td>\n",
       "      <td>Northeast</td>\n",
       "      <td>1.2</td>\n",
       "      <td>severe weather</td>\n",
       "      <td>0.355121</td>\n",
       "      <td>0.530864</td>\n",
       "      <td>0.090933</td>\n",
       "    </tr>\n",
       "    <tr>\n",
       "      <th>1074</th>\n",
       "      <td>12.0</td>\n",
       "      <td>FL</td>\n",
       "      <td>FRCC</td>\n",
       "      <td>Southeast</td>\n",
       "      <td>0.3</td>\n",
       "      <td>system operability disruption</td>\n",
       "      <td>0.506712</td>\n",
       "      <td>0.401661</td>\n",
       "      <td>0.091159</td>\n",
       "    </tr>\n",
       "    <tr>\n",
       "      <th>...</th>\n",
       "      <td>...</td>\n",
       "      <td>...</td>\n",
       "      <td>...</td>\n",
       "      <td>...</td>\n",
       "      <td>...</td>\n",
       "      <td>...</td>\n",
       "      <td>...</td>\n",
       "      <td>...</td>\n",
       "      <td>...</td>\n",
       "    </tr>\n",
       "    <tr>\n",
       "      <th>361</th>\n",
       "      <td>6.0</td>\n",
       "      <td>IL</td>\n",
       "      <td>SERC</td>\n",
       "      <td>Central</td>\n",
       "      <td>0.4</td>\n",
       "      <td>severe weather</td>\n",
       "      <td>0.340379</td>\n",
       "      <td>0.368163</td>\n",
       "      <td>0.288427</td>\n",
       "    </tr>\n",
       "    <tr>\n",
       "      <th>463</th>\n",
       "      <td>8.0</td>\n",
       "      <td>WA</td>\n",
       "      <td>WECC</td>\n",
       "      <td>Northwest</td>\n",
       "      <td>-0.6</td>\n",
       "      <td>intentional attack</td>\n",
       "      <td>0.331169</td>\n",
       "      <td>0.336852</td>\n",
       "      <td>0.331867</td>\n",
       "    </tr>\n",
       "    <tr>\n",
       "      <th>140</th>\n",
       "      <td>12.0</td>\n",
       "      <td>MI</td>\n",
       "      <td>RFC</td>\n",
       "      <td>East North Central</td>\n",
       "      <td>-0.3</td>\n",
       "      <td>severe weather</td>\n",
       "      <td>0.364700</td>\n",
       "      <td>0.356585</td>\n",
       "      <td>0.278646</td>\n",
       "    </tr>\n",
       "    <tr>\n",
       "      <th>1153</th>\n",
       "      <td>6.0</td>\n",
       "      <td>CA</td>\n",
       "      <td>WECC</td>\n",
       "      <td>West</td>\n",
       "      <td>-0.2</td>\n",
       "      <td>equipment failure</td>\n",
       "      <td>0.324292</td>\n",
       "      <td>0.447424</td>\n",
       "      <td>0.224956</td>\n",
       "    </tr>\n",
       "    <tr>\n",
       "      <th>670</th>\n",
       "      <td>2.0</td>\n",
       "      <td>UT</td>\n",
       "      <td>WECC</td>\n",
       "      <td>Southwest</td>\n",
       "      <td>-1.0</td>\n",
       "      <td>intentional attack</td>\n",
       "      <td>0.309494</td>\n",
       "      <td>0.350014</td>\n",
       "      <td>0.339288</td>\n",
       "    </tr>\n",
       "  </tbody>\n",
       "</table>\n",
       "<p>1098 rows × 9 columns</p>\n",
       "</div>"
      ],
      "text/plain": [
       "      MONTH POSTAL.CODE NERC.REGION      CLIMATE.REGION  ANOMALY.LEVEL  \\\n",
       "810     1.0          SC        SERC           Southeast           -1.6   \n",
       "1496    7.0          CO        WECC           Southwest           -0.3   \n",
       "1383    5.0          GA        SERC           Southeast           -0.7   \n",
       "963     2.0          NY        NPCC           Northeast            1.2   \n",
       "1074   12.0          FL        FRCC           Southeast            0.3   \n",
       "...     ...         ...         ...                 ...            ...   \n",
       "361     6.0          IL        SERC             Central            0.4   \n",
       "463     8.0          WA        WECC           Northwest           -0.6   \n",
       "140    12.0          MI         RFC  East North Central           -0.3   \n",
       "1153    6.0          CA        WECC                West           -0.2   \n",
       "670     2.0          UT        WECC           Southwest           -1.0   \n",
       "\n",
       "                     CAUSE.CATEGORY  RES.PERCEN  COM.PERCEN  IND.PERCEN  \n",
       "810                  severe weather    0.364497    0.205032    0.418922  \n",
       "1496  system operability disruption    0.361385    0.366302    0.271576  \n",
       "1383                 severe weather    0.356934    0.370311    0.271463  \n",
       "963                  severe weather    0.355121    0.530864    0.090933  \n",
       "1074  system operability disruption    0.506712    0.401661    0.091159  \n",
       "...                             ...         ...         ...         ...  \n",
       "361                  severe weather    0.340379    0.368163    0.288427  \n",
       "463              intentional attack    0.331169    0.336852    0.331867  \n",
       "140                  severe weather    0.364700    0.356585    0.278646  \n",
       "1153              equipment failure    0.324292    0.447424    0.224956  \n",
       "670              intentional attack    0.309494    0.350014    0.339288  \n",
       "\n",
       "[1098 rows x 9 columns]"
      ]
     },
     "execution_count": 27,
     "metadata": {},
     "output_type": "execute_result"
    }
   ],
   "source": [
    "X_train"
   ]
  },
  {
   "cell_type": "code",
   "execution_count": 28,
   "metadata": {},
   "outputs": [
    {
     "data": {
      "text/plain": [
       "(0.2791740060870278, 0.11081887278136393)"
      ]
     },
     "execution_count": 28,
     "metadata": {},
     "output_type": "execute_result"
    }
   ],
   "source": [
    "pl.fit(X_train, y_train)\n",
    "pl.score(X_train, y_train), pl.score(X_test, y_test)"
   ]
  },
  {
   "cell_type": "code",
   "execution_count": 29,
   "metadata": {},
   "outputs": [
    {
     "data": {
      "text/plain": [
       "(4625.128329578341, 6874.983488760112)"
      ]
     },
     "execution_count": 29,
     "metadata": {},
     "output_type": "execute_result"
    }
   ],
   "source": [
    "train_rmse = RMSE(pl.predict(X_train), y_train)\n",
    "test_rmse = RMSE(pl.predict(X_test), y_test)\n",
    "train_rmse, test_rmse"
   ]
  },
  {
   "cell_type": "code",
   "execution_count": 30,
   "metadata": {},
   "outputs": [],
   "source": [
    "# getting couple more scores for comparison \n",
    "x = []\n",
    "test_rmse_list = []\n",
    "\n",
    "for i in range(100):\n",
    "    result = {\n",
    "        'train_rmse':[],\n",
    "        'test_rmse':[]\n",
    "    }\n",
    "\n",
    "    for _ in range(50):\n",
    "        X_train, X_test, y_train, y_test = train_test_split(X, y) \n",
    "        pl.fit(X_train, y_train)\n",
    "\n",
    "        train_rmse = RMSE(pl.predict(X_train), y_train)\n",
    "        test_rmse = RMSE(pl.predict(X_test), y_test)\n",
    "        test_rmse_list.append(test_rmse)\n",
    "\n",
    "        result['train_rmse'].append(train_rmse)\n",
    "        result['test_rmse'].append(test_rmse)\n",
    "\n",
    "        percent = (np.array(result['test_rmse']) < np.array(result['train_rmse'])).sum() / 100\n",
    "\n",
    "        x.append(percent)"
   ]
  },
  {
   "cell_type": "code",
   "execution_count": 31,
   "metadata": {},
   "outputs": [
    {
     "data": {
      "text/plain": [
       "<matplotlib.axes._subplots.AxesSubplot at 0x250084c9cd0>"
      ]
     },
     "execution_count": 31,
     "metadata": {},
     "output_type": "execute_result"
    },
    {
     "data": {
      "image/png": "[encoded data removed]",
      "text/plain": [
       "<Figure size 432x288 with 1 Axes>"
      ]
     },
     "metadata": {
      "image/png": {
       "height": 248,
       "width": 368
      },
      "needs_background": "light"
     },
     "output_type": "display_data"
    }
   ],
   "source": [
    "sns.distplot(x)"
   ]
  },
  {
   "cell_type": "code",
   "execution_count": 32,
   "metadata": {},
   "outputs": [
    {
     "data": {
      "text/plain": [
       "5678.516797095664"
      ]
     },
     "execution_count": 32,
     "metadata": {},
     "output_type": "execute_result"
    }
   ],
   "source": [
    "sum(test_rmse_list) / len(test_rmse_list) "
   ]
  },
  {
   "cell_type": "code",
   "execution_count": 49,
   "metadata": {},
   "outputs": [
    {
     "data": {
      "text/plain": [
       "(5734.8167537021445, 7091.104316026173)"
      ]
     },
     "execution_count": 49,
     "metadata": {},
     "output_type": "execute_result"
    }
   ],
   "source": [
    "from sklearn.tree import DecisionTreeClassifier\n",
    "\n",
    "pl = Pipeline(steps=[('preprocessor', preproc), ('regressor', DecisionTreeClassifier(max_depth=10))])\n",
    "X_train, X_test, y_train, y_test = train_test_split(X, y)\n",
    "pl.fit(X_train, y_train)\n",
    "pl.score(X_train, y_train), pl.score(X_test, y_test)\n",
    "train_rmse = RMSE(pl.predict(X_train), y_train)\n",
    "test_rmse = RMSE(pl.predict(X_test), y_test)\n",
    "train_rmse, test_rmse\n",
    "# pl.score(X_train, y_train), pl.score(X_test, y_test)"
   ]
  },
  {
   "cell_type": "code",
   "execution_count": 50,
   "metadata": {},
   "outputs": [],
   "source": [
    "# getting couple more scores for comparison \n",
    "x = []\n",
    "test_rmse_list = []\n",
    "\n",
    "for i in range(100):\n",
    "    result = {\n",
    "        'train_rmse':[],\n",
    "        'test_rmse':[]\n",
    "    }\n",
    "\n",
    "    for _ in range(50):\n",
    "        X_train, X_test, y_train, y_test = train_test_split(X, y) \n",
    "        pl.fit(X_train, y_train)\n",
    "\n",
    "        train_rmse = RMSE(pl.predict(X_train), y_train)\n",
    "        test_rmse = RMSE(pl.predict(X_test), y_test)\n",
    "        test_rmse_list.append(test_rmse)\n",
    "\n",
    "        result['train_rmse'].append(train_rmse)\n",
    "        result['test_rmse'].append(test_rmse)\n",
    "\n",
    "        percent = (np.array(result['test_rmse']) < np.array(result['train_rmse'])).sum() / 100\n",
    "\n",
    "        x.append(percent)"
   ]
  },
  {
   "cell_type": "code",
   "execution_count": 51,
   "metadata": {},
   "outputs": [
    {
     "data": {
      "text/plain": [
       "6332.954686868547"
      ]
     },
     "execution_count": 51,
     "metadata": {},
     "output_type": "execute_result"
    }
   ],
   "source": [
    "sum(test_rmse_list) / len(test_rmse_list)"
   ]
  },
  {
   "cell_type": "code",
   "execution_count": 75,
   "metadata": {},
   "outputs": [
    {
     "data": {
      "text/plain": [
       "(1502.2933993052293, 5579.543467210593)"
      ]
     },
     "execution_count": 75,
     "metadata": {},
     "output_type": "execute_result"
    }
   ],
   "source": [
    "from sklearn.tree import DecisionTreeRegressor\n",
    "\n",
    "pl = Pipeline(steps=[('preprocessor', preproc), ('regressor', DecisionTreeRegressor())])\n",
    "X_train, X_test, y_train, y_test = train_test_split(X, y)\n",
    "pl.fit(X_train, y_train)\n",
    "pl.score(X_train, y_train), pl.score(X_test, y_test)\n",
    "train_rmse = RMSE(pl.predict(X_train), y_train)\n",
    "test_rmse = RMSE(pl.predict(X_test), y_test)\n",
    "train_rmse, test_rmse\n",
    "# pl.score(X_train, y_train), pl.score(X_test, y_test)"
   ]
  },
  {
   "cell_type": "code",
   "execution_count": 70,
   "metadata": {},
   "outputs": [],
   "source": [
    "# from sklearn.neighbors import KNeighborsClassifier\n",
    "\n",
    "# pl = Pipeline(steps=[('preprocessor', preproc), ('regressor', KNeighborsClassifier())])\n",
    "# X_train, X_test, y_train, y_test = train_test_split(X, y)\n",
    "# pl.fit(X_train, y_train)\n",
    "# pl.score(X_train, y_train), pl.score(X_test, y_test)\n",
    "# train_rmse = RMSE(pl.predict(X_train), y_train)\n",
    "# test_rmse = RMSE(pl.predict(X_test), y_test)\n",
    "# train_rmse, test_rmse\n",
    "# # pl.score(X_train, y_train), pl.score(X_test, y_test)"
   ]
  },
  {
   "cell_type": "markdown",
   "metadata": {},
   "source": [
    "### Fairness Evaluation"
   ]
  },
  {
   "cell_type": "code",
   "execution_count": 38,
   "metadata": {},
   "outputs": [],
   "source": [
    "# Fairness evaluation of equipment failure on outage duration"
   ]
  },
  {
   "cell_type": "code",
   "execution_count": 39,
   "metadata": {},
   "outputs": [
    {
     "name": "stdout",
     "output_type": "stream",
     "text": [
      "There were 60 examples of equiment failure in the dataset\n"
     ]
    },
    {
     "data": {
      "text/plain": [
       "severe weather                   763\n",
       "intentional attack               418\n",
       "system operability disruption    127\n",
       "public appeal                     69\n",
       "equipment failure                 60\n",
       "fuel supply emergency             51\n",
       "islanding                         46\n",
       "Name: CAUSE.CATEGORY, dtype: int64"
      ]
     },
     "execution_count": 39,
     "metadata": {},
     "output_type": "execute_result"
    }
   ],
   "source": [
    "num_examples = int(outages['CAUSE.CATEGORY'].value_counts()['equipment failure'])\n",
    "print('There were ' + str(num_examples) + ' examples of equiment failure in the dataset')\n",
    "outages['CAUSE.CATEGORY'].value_counts()"
   ]
  },
  {
   "cell_type": "code",
   "execution_count": 40,
   "metadata": {},
   "outputs": [],
   "source": [
    "# using root_mean_squared_error as the parity measure\n",
    "from sklearn import metrics"
   ]
  },
  {
   "cell_type": "code",
   "execution_count": 41,
   "metadata": {},
   "outputs": [
    {
     "data": {
      "text/plain": [
       "Pipeline(steps=[('preprocessor',\n",
       "                 ColumnTransformer(remainder='passthrough',\n",
       "                                   transformers=[('one-hot',\n",
       "                                                  Pipeline(steps=[('one-hot',\n",
       "                                                                   OneHotEncoder(handle_unknown='ignore'))]),\n",
       "                                                  ['MONTH', 'POSTAL.CODE',\n",
       "                                                   'NERC.REGION',\n",
       "                                                   'CLIMATE.REGION',\n",
       "                                                   'ANOMALY.LEVEL',\n",
       "                                                   'CAUSE.CATEGORY'])])),\n",
       "                ('regressor', LinearRegression())])"
      ]
     },
     "execution_count": 41,
     "metadata": {},
     "output_type": "execute_result"
    }
   ],
   "source": [
    "X = final2.drop('OUTAGE.DURATION', 1)\n",
    "y = final2['OUTAGE.DURATION']\n",
    "pl.fit(X, y)"
   ]
  },
  {
   "cell_type": "code",
   "execution_count": 42,
   "metadata": {},
   "outputs": [
    {
     "data": {
      "text/plain": [
       "0.2631307227302466"
      ]
     },
     "execution_count": 42,
     "metadata": {},
     "output_type": "execute_result"
    }
   ],
   "source": [
    "# accuracy\n",
    "pl.score(X, y)"
   ]
  },
  {
   "cell_type": "code",
   "execution_count": 43,
   "metadata": {},
   "outputs": [
    {
     "data": {
      "text/html": [
       "<div>\n",
       "<style scoped>\n",
       "    .dataframe tbody tr th:only-of-type {\n",
       "        vertical-align: middle;\n",
       "    }\n",
       "\n",
       "    .dataframe tbody tr th {\n",
       "        vertical-align: top;\n",
       "    }\n",
       "\n",
       "    .dataframe thead th {\n",
       "        text-align: right;\n",
       "    }\n",
       "</style>\n",
       "<table border=\"1\" class=\"dataframe\">\n",
       "  <thead>\n",
       "    <tr style=\"text-align: right;\">\n",
       "      <th></th>\n",
       "      <th>MONTH</th>\n",
       "      <th>POSTAL.CODE</th>\n",
       "      <th>NERC.REGION</th>\n",
       "      <th>CLIMATE.REGION</th>\n",
       "      <th>ANOMALY.LEVEL</th>\n",
       "      <th>CAUSE.CATEGORY</th>\n",
       "      <th>RES.PERCEN</th>\n",
       "      <th>COM.PERCEN</th>\n",
       "      <th>IND.PERCEN</th>\n",
       "      <th>cause</th>\n",
       "      <th>prediction</th>\n",
       "      <th>actual</th>\n",
       "    </tr>\n",
       "  </thead>\n",
       "  <tbody>\n",
       "    <tr>\n",
       "      <th>0</th>\n",
       "      <td>7.0</td>\n",
       "      <td>MN</td>\n",
       "      <td>MRO</td>\n",
       "      <td>East North Central</td>\n",
       "      <td>-0.3</td>\n",
       "      <td>severe weather</td>\n",
       "      <td>0.355491</td>\n",
       "      <td>0.322250</td>\n",
       "      <td>0.322024</td>\n",
       "      <td>severe weather</td>\n",
       "      <td>3498.598071</td>\n",
       "      <td>3060.0</td>\n",
       "    </tr>\n",
       "    <tr>\n",
       "      <th>1</th>\n",
       "      <td>5.0</td>\n",
       "      <td>MN</td>\n",
       "      <td>MRO</td>\n",
       "      <td>East North Central</td>\n",
       "      <td>-0.1</td>\n",
       "      <td>intentional attack</td>\n",
       "      <td>0.300325</td>\n",
       "      <td>0.342104</td>\n",
       "      <td>0.357276</td>\n",
       "      <td>intentional attack</td>\n",
       "      <td>1492.936043</td>\n",
       "      <td>1.0</td>\n",
       "    </tr>\n",
       "    <tr>\n",
       "      <th>2</th>\n",
       "      <td>10.0</td>\n",
       "      <td>MN</td>\n",
       "      <td>MRO</td>\n",
       "      <td>East North Central</td>\n",
       "      <td>-1.5</td>\n",
       "      <td>severe weather</td>\n",
       "      <td>0.280977</td>\n",
       "      <td>0.345010</td>\n",
       "      <td>0.373660</td>\n",
       "      <td>severe weather</td>\n",
       "      <td>2909.308495</td>\n",
       "      <td>3000.0</td>\n",
       "    </tr>\n",
       "    <tr>\n",
       "      <th>3</th>\n",
       "      <td>6.0</td>\n",
       "      <td>MN</td>\n",
       "      <td>MRO</td>\n",
       "      <td>East North Central</td>\n",
       "      <td>-0.1</td>\n",
       "      <td>severe weather</td>\n",
       "      <td>0.319941</td>\n",
       "      <td>0.335433</td>\n",
       "      <td>0.344393</td>\n",
       "      <td>severe weather</td>\n",
       "      <td>4214.984331</td>\n",
       "      <td>2550.0</td>\n",
       "    </tr>\n",
       "    <tr>\n",
       "      <th>4</th>\n",
       "      <td>7.0</td>\n",
       "      <td>MN</td>\n",
       "      <td>MRO</td>\n",
       "      <td>East North Central</td>\n",
       "      <td>1.2</td>\n",
       "      <td>severe weather</td>\n",
       "      <td>0.339826</td>\n",
       "      <td>0.362059</td>\n",
       "      <td>0.297795</td>\n",
       "      <td>severe weather</td>\n",
       "      <td>3403.841063</td>\n",
       "      <td>1740.0</td>\n",
       "    </tr>\n",
       "  </tbody>\n",
       "</table>\n",
       "</div>"
      ],
      "text/plain": [
       "   MONTH POSTAL.CODE NERC.REGION      CLIMATE.REGION  ANOMALY.LEVEL  \\\n",
       "0    7.0          MN         MRO  East North Central           -0.3   \n",
       "1    5.0          MN         MRO  East North Central           -0.1   \n",
       "2   10.0          MN         MRO  East North Central           -1.5   \n",
       "3    6.0          MN         MRO  East North Central           -0.1   \n",
       "4    7.0          MN         MRO  East North Central            1.2   \n",
       "\n",
       "       CAUSE.CATEGORY  RES.PERCEN  COM.PERCEN  IND.PERCEN               cause  \\\n",
       "0      severe weather    0.355491    0.322250    0.322024      severe weather   \n",
       "1  intentional attack    0.300325    0.342104    0.357276  intentional attack   \n",
       "2      severe weather    0.280977    0.345010    0.373660      severe weather   \n",
       "3      severe weather    0.319941    0.335433    0.344393      severe weather   \n",
       "4      severe weather    0.339826    0.362059    0.297795      severe weather   \n",
       "\n",
       "    prediction  actual  \n",
       "0  3498.598071  3060.0  \n",
       "1  1492.936043     1.0  \n",
       "2  2909.308495  3000.0  \n",
       "3  4214.984331  2550.0  \n",
       "4  3403.841063  1740.0  "
      ]
     },
     "execution_count": 43,
     "metadata": {},
     "output_type": "execute_result"
    }
   ],
   "source": [
    "results = X.copy()\n",
    "results['cause'] = results['CAUSE.CATEGORY']\n",
    "results['prediction'] = predictions = pl.predict(X)\n",
    "results['actual'] = y\n",
    "results.head()"
   ]
  },
  {
   "cell_type": "code",
   "execution_count": 44,
   "metadata": {},
   "outputs": [],
   "source": [
    "results['is_failure'] = (results.cause == 'equipment failure').replace({True:'equipment failure', False:'other cause'})"
   ]
  },
  {
   "cell_type": "code",
   "execution_count": 45,
   "metadata": {},
   "outputs": [
    {
     "data": {
      "text/html": [
       "<div>\n",
       "<style scoped>\n",
       "    .dataframe tbody tr th:only-of-type {\n",
       "        vertical-align: middle;\n",
       "    }\n",
       "\n",
       "    .dataframe tbody tr th {\n",
       "        vertical-align: top;\n",
       "    }\n",
       "\n",
       "    .dataframe thead th {\n",
       "        text-align: right;\n",
       "    }\n",
       "</style>\n",
       "<table border=\"1\" class=\"dataframe\">\n",
       "  <thead>\n",
       "    <tr style=\"text-align: right;\">\n",
       "      <th></th>\n",
       "      <th>prediction</th>\n",
       "    </tr>\n",
       "    <tr>\n",
       "      <th>is_failure</th>\n",
       "      <th></th>\n",
       "    </tr>\n",
       "  </thead>\n",
       "  <tbody>\n",
       "    <tr>\n",
       "      <th>equipment failure</th>\n",
       "      <td>1816.909002</td>\n",
       "    </tr>\n",
       "    <tr>\n",
       "      <th>other cause</th>\n",
       "      <td>2671.767214</td>\n",
       "    </tr>\n",
       "  </tbody>\n",
       "</table>\n",
       "</div>"
      ],
      "text/plain": [
       "                    prediction\n",
       "is_failure                    \n",
       "equipment failure  1816.909002\n",
       "other cause        2671.767214"
      ]
     },
     "execution_count": 45,
     "metadata": {},
     "output_type": "execute_result"
    }
   ],
   "source": [
    "results.groupby('is_failure').prediction.mean().to_frame()"
   ]
  },
  {
   "cell_type": "code",
   "execution_count": 46,
   "metadata": {},
   "outputs": [
    {
     "data": {
      "text/html": [
       "<div>\n",
       "<style scoped>\n",
       "    .dataframe tbody tr th:only-of-type {\n",
       "        vertical-align: middle;\n",
       "    }\n",
       "\n",
       "    .dataframe tbody tr th {\n",
       "        vertical-align: top;\n",
       "    }\n",
       "\n",
       "    .dataframe thead th {\n",
       "        text-align: right;\n",
       "    }\n",
       "</style>\n",
       "<table border=\"1\" class=\"dataframe\">\n",
       "  <thead>\n",
       "    <tr style=\"text-align: right;\">\n",
       "      <th></th>\n",
       "      <th>RMSE</th>\n",
       "    </tr>\n",
       "    <tr>\n",
       "      <th>is_failure</th>\n",
       "      <th></th>\n",
       "    </tr>\n",
       "  </thead>\n",
       "  <tbody>\n",
       "    <tr>\n",
       "      <th>equipment failure</th>\n",
       "      <td>10173.421987</td>\n",
       "    </tr>\n",
       "    <tr>\n",
       "      <th>other cause</th>\n",
       "      <td>4814.109381</td>\n",
       "    </tr>\n",
       "  </tbody>\n",
       "</table>\n",
       "</div>"
      ],
      "text/plain": [
       "                           RMSE\n",
       "is_failure                     \n",
       "equipment failure  10173.421987\n",
       "other cause         4814.109381"
      ]
     },
     "execution_count": 46,
     "metadata": {},
     "output_type": "execute_result"
    }
   ],
   "source": [
    "(\n",
    "    results\n",
    "    .groupby('is_failure')\n",
    "    .apply(lambda x: np.sqrt(metrics.mean_squared_error(x.actual, x.prediction)))\n",
    "    .rename('RMSE')\n",
    "    .to_frame()\n",
    ")"
   ]
  },
  {
   "cell_type": "code",
   "execution_count": 47,
   "metadata": {},
   "outputs": [],
   "source": [
    "obs = results.groupby('is_failure').apply(lambda x: np.sqrt(metrics.mean_squared_error(x.actual, x.prediction))).diff().iloc[-1]\n",
    "\n",
    "metrs = []\n",
    "for _ in range(100):\n",
    "    s = (\n",
    "        results[['is_failure', 'prediction', 'actual']]\n",
    "        .assign(is_failure=results.is_failure.sample(frac=1.0, replace=False).reset_index(drop=True))\n",
    "        .groupby('is_failure')\n",
    "        .apply(lambda x:np.sqrt(metrics.mean_squared_error(x.actual, x.prediction)))\n",
    "        .diff()\n",
    "        .iloc[-1]\n",
    "    )\n",
    "    \n",
    "    metrs.append(s)"
   ]
  },
  {
   "cell_type": "code",
   "execution_count": 48,
   "metadata": {},
   "outputs": [
    {
     "name": "stdout",
     "output_type": "stream",
     "text": [
      "0.07\n"
     ]
    },
    {
     "data": {
      "image/png": "[encoded data removed]",
      "text/plain": [
       "<Figure size 432x288 with 1 Axes>"
      ]
     },
     "metadata": {
      "image/png": {
       "height": 263,
       "width": 542
      },
      "needs_background": "light"
     },
     "output_type": "display_data"
    }
   ],
   "source": [
    "pd.Series(metrs).plot(kind='hist', title='Permutation Test for outage durations when caused by equipment failure / other causes')\n",
    "plt.axvline(obs, c='r');\n",
    "print(pd.Series(metrs <= obs).mean())"
   ]
  },
  {
   "cell_type": "code",
   "execution_count": null,
   "metadata": {},
   "outputs": [],
   "source": []
  },
  {
   "cell_type": "code",
   "execution_count": null,
   "metadata": {},
   "outputs": [],
   "source": []
  }
 ],
 "metadata": {
  "kernelspec": {
   "display_name": "Python 3",
   "language": "python",
   "name": "python3"
  },
  "language_info": {
   "codemirror_mode": {
    "name": "ipython",
    "version": 3
   },
   "file_extension": ".py",
   "mimetype": "text/x-python",
   "name": "python",
   "nbconvert_exporter": "python",
   "pygments_lexer": "ipython3",
   "version": "3.8.5"
  }
 },
 "nbformat": 4,
 "nbformat_minor": 2
}
