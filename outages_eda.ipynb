{
 "cells": [
  {
   "cell_type": "markdown",
   "metadata": {},
   "source": [
    "# Power Outages\n",
    "This project uses major power outage data in the continental U.S. from January 2000 to July 2016. Here, a major power  outage is defined as a power outage that impacted at least 50,000 customers or caused an unplanned firm load loss of atleast 300MW. Interesting questions to consider include:\n",
    "- Where and when do major power outages tend to occur?\n",
    "- What are the characteristics of major power outages with higher severity? Variables to consider include location, time, climate, land-use characteristics, electricity consumption patterns, economic characteristics, etc. What risk factors may an energy company want to look into when predicting the location and severity of its next major power outage?\n",
    "- What characteristics are associated with each category of cause?\n",
    "- How have characteristics of major power outages changed over time? Is there a clear trend?\n",
    "\n",
    "### Getting the Data\n",
    "The data is downloadable [here](https://urldefense.com/v3/__https://engineering.purdue.edu/LASCI/research-data/outages/outagerisks).*5Cn__;JQ!!Mih3wA!WS4Qn-e2vEKtQ0f1rzdgTr84OJx2LGljGKqWAvqSbgE58wVk4Kly9aTkFJd03ZCe$ \n",
    "A data dictionary is available at this [article](https://urldefense.com/v3/__https://www.sciencedirect.com/science/article/pii/S2352340918307182__;!!Mih3wA!WS4Qn-e2vEKtQ0f1rzdgTr84OJx2LGljGKqWAvqSbgE58wVk4Kly9aTkFLFU1ZKd$ ) under *Table 1. Variable descriptions*.\n",
    "\n",
    "### Cleaning and EDA\n",
    "- Note that the data is given as an Excel file rather than a CSV. Open the data in Excel or another spreadsheet application and determine which rows and columns of the Excel spreadsheet should be ignored when loading the data in pandas.\n",
    "- Clean the data.\n",
    "    - The power outage start date and time is given by `OUTAGE.START.DATE` and `OUTAGE.START.TIME`. It would be preferable if these two columns were combined into one datetime column. Combine `OUTAGE.START.DATE` and `OUTAGE.START.TIME` into a new datetime column called `OUTAGE.START`. Similarly, combine `OUTAGE.RESTORATION.DATE` and `OUTAGE.RESTORATION.TIME` into a new datetime column called `OUTAGE.RESTORATION`.\n",
    "- Understand the data in ways relevant to your question using univariate and bivariate analysis of the data as well as aggregations.\n",
    "\n",
    "*Hint 1: pandas can load multiple filetypes: `pd.read_csv`, `pd.read_excel`, `pd.read_html`, `pd.read_json`, etc.*\n",
    "\n",
    "*Hint 2: `pd.to_datetime` and `pd.to_timedelta` will be useful here.*\n",
    "\n",
    "*Tip: To visualize geospatial data, consider [Folium](https://urldefense.com/v3/__https://python-visualization.github.io/folium/__;!!Mih3wA!Tmp2nNSYhv1x0p_zaoyyiio8NFoaKb-BuYaHi3T_6x7umkGTVi4hPwecNtmpWGXR$ ) or another geospatial plotting library.*\n",
    "\n",
    "### Assessment of Missingness\n",
    "- Assess the missingness of a column that is not missing by  design.\n",
    "\n",
    "### Hypothesis Test\n",
    "Find a hypothesis test to perform. You can use the questions at the top of the notebook for inspiration."
   ]
  },
  {
   "cell_type": "markdown",
   "metadata": {},
   "source": [
    "# Summary of Findings\n",
    "\n",
    "### Introduction\n",
    "The dataset consisted of various geo location data with causes, population, and power outage data. Looking through the various columns in the set, we found the relationship between power outage durations of rural and urban to be quite interesting. \n",
    "Question: Is there a similarity in outage duration in urban areas vs rural areas?\n",
    "\n",
    "Null Hypothesis: Urban and rural areas see similar outage durations as rural areas.\n",
    "\n",
    "Alternative Hypothesis: Urban areas tend to have longer outages than rural areas. \n",
    "\n",
    "### Cleaning and EDA\n",
    "To begin we read in the excel file outage as a pandas dataframe. After reading in the file, we drop the units row and the columns for variables and OBS. Units and variables can be found using the data dictionary available with the dataset and is not needed in the dataframe. The OBS column is replaced by the index of the dataframe and also not needed.\n",
    "   \n",
    "With the dataframe setup, we then combine columns OUTAGE.START.DATE and OUTAGE.START.TIME into an OUTAGE.START column using datetime objects. Likewise, columns OUTAGE.RESTORATION.DATE and OUTAGE.RESTORATION.TIME are combined into OUTAGE.RESTORATION.\n",
    "\n",
    "Then we can do some univariate and bivariate analysis on the data and look at statistics and aggregates.\n",
    "\n",
    "Finally we filter and clean the values that we need to test our hypothesis by aggregating columns and removing null values.\n",
    "\n",
    "The interesting aggregates we found revolved mostly around the relationships between \"outage duration\" and various other column values such as \"population count\" and \"climate region\".\n",
    "\n",
    "### Assessment of Missingness\n",
    "Using a permutation test and the TVD, we assess the missingness of OUTAGE.DURATION based on CLIMATE.REGION and CLIMATE.CATEGORY to see how the missingness of OUTAGE.DURATION is based on the climate of the outage. We then also assess the missingness of CUSTOMERS.AFFECTED based on CLIMATE.CATEGORY. \n",
    "\n",
    "### Hypothesis Test\n",
    "Question:Is there a correleation between urban areas and duration of outages. \n",
    "We used the difference of means test statistic to run a permutation test which allows us to randomly shuffle the groups and randomly assign durations to see any trends in the distributions. The urban and rural populations were differentiated using the average urban population as threshold where values below mean are labelled as urban while values greater were labelled as rural. After performing the permutation test we got a p-value of 0.86 which is less than the standard 0.05 significance value. Therefore we can conclude that we failed to reject the null hypothesis and that the correlation  between outage duration and urban areas is merely due to chance. "
   ]
  },
  {
   "cell_type": "markdown",
   "metadata": {},
   "source": [
    "# Code"
   ]
  },
  {
   "cell_type": "code",
   "execution_count": 1,
   "metadata": {
    "ExecuteTime": {
     "end_time": "2019-10-31T23:36:28.652554Z",
     "start_time": "2019-10-31T23:36:27.180520Z"
    }
   },
   "outputs": [],
   "source": [
    "import matplotlib.pyplot as plt\n",
    "import numpy as np\n",
    "import os\n",
    "import pandas as pd\n",
    "import seaborn as sns\n",
    "%matplotlib inline\n",
    "%config InlineBackend.figure_format = 'retina'  # Higher resolution figures"
   ]
  },
  {
   "cell_type": "code",
   "execution_count": 2,
   "metadata": {},
   "outputs": [
    {
     "data": {
      "text/html": [
       "<div>\n",
       "<style scoped>\n",
       "    .dataframe tbody tr th:only-of-type {\n",
       "        vertical-align: middle;\n",
       "    }\n",
       "\n",
       "    .dataframe tbody tr th {\n",
       "        vertical-align: top;\n",
       "    }\n",
       "\n",
       "    .dataframe thead th {\n",
       "        text-align: right;\n",
       "    }\n",
       "</style>\n",
       "<table border=\"1\" class=\"dataframe\">\n",
       "  <thead>\n",
       "    <tr style=\"text-align: right;\">\n",
       "      <th></th>\n",
       "      <th>variables</th>\n",
       "      <th>OBS</th>\n",
       "      <th>YEAR</th>\n",
       "      <th>MONTH</th>\n",
       "      <th>U.S._STATE</th>\n",
       "      <th>POSTAL.CODE</th>\n",
       "      <th>NERC.REGION</th>\n",
       "      <th>CLIMATE.REGION</th>\n",
       "      <th>ANOMALY.LEVEL</th>\n",
       "      <th>CLIMATE.CATEGORY</th>\n",
       "      <th>...</th>\n",
       "      <th>POPPCT_URBAN</th>\n",
       "      <th>POPPCT_UC</th>\n",
       "      <th>POPDEN_URBAN</th>\n",
       "      <th>POPDEN_UC</th>\n",
       "      <th>POPDEN_RURAL</th>\n",
       "      <th>AREAPCT_URBAN</th>\n",
       "      <th>AREAPCT_UC</th>\n",
       "      <th>PCT_LAND</th>\n",
       "      <th>PCT_WATER_TOT</th>\n",
       "      <th>PCT_WATER_INLAND</th>\n",
       "    </tr>\n",
       "  </thead>\n",
       "  <tbody>\n",
       "    <tr>\n",
       "      <th>0</th>\n",
       "      <td>Units</td>\n",
       "      <td>NaN</td>\n",
       "      <td>NaN</td>\n",
       "      <td>NaN</td>\n",
       "      <td>NaN</td>\n",
       "      <td>NaN</td>\n",
       "      <td>NaN</td>\n",
       "      <td>NaN</td>\n",
       "      <td>numeric</td>\n",
       "      <td>NaN</td>\n",
       "      <td>...</td>\n",
       "      <td>%</td>\n",
       "      <td>%</td>\n",
       "      <td>persons per square mile</td>\n",
       "      <td>persons per square mile</td>\n",
       "      <td>persons per square mile</td>\n",
       "      <td>%</td>\n",
       "      <td>%</td>\n",
       "      <td>%</td>\n",
       "      <td>%</td>\n",
       "      <td>%</td>\n",
       "    </tr>\n",
       "    <tr>\n",
       "      <th>1</th>\n",
       "      <td>NaN</td>\n",
       "      <td>1.0</td>\n",
       "      <td>2011.0</td>\n",
       "      <td>7.0</td>\n",
       "      <td>Minnesota</td>\n",
       "      <td>MN</td>\n",
       "      <td>MRO</td>\n",
       "      <td>East North Central</td>\n",
       "      <td>-0.3</td>\n",
       "      <td>normal</td>\n",
       "      <td>...</td>\n",
       "      <td>73.27</td>\n",
       "      <td>15.28</td>\n",
       "      <td>2279</td>\n",
       "      <td>1700.5</td>\n",
       "      <td>18.2</td>\n",
       "      <td>2.14</td>\n",
       "      <td>0.6</td>\n",
       "      <td>91.5927</td>\n",
       "      <td>8.40733</td>\n",
       "      <td>5.47874</td>\n",
       "    </tr>\n",
       "    <tr>\n",
       "      <th>2</th>\n",
       "      <td>NaN</td>\n",
       "      <td>2.0</td>\n",
       "      <td>2014.0</td>\n",
       "      <td>5.0</td>\n",
       "      <td>Minnesota</td>\n",
       "      <td>MN</td>\n",
       "      <td>MRO</td>\n",
       "      <td>East North Central</td>\n",
       "      <td>-0.1</td>\n",
       "      <td>normal</td>\n",
       "      <td>...</td>\n",
       "      <td>73.27</td>\n",
       "      <td>15.28</td>\n",
       "      <td>2279</td>\n",
       "      <td>1700.5</td>\n",
       "      <td>18.2</td>\n",
       "      <td>2.14</td>\n",
       "      <td>0.6</td>\n",
       "      <td>91.5927</td>\n",
       "      <td>8.40733</td>\n",
       "      <td>5.47874</td>\n",
       "    </tr>\n",
       "    <tr>\n",
       "      <th>3</th>\n",
       "      <td>NaN</td>\n",
       "      <td>3.0</td>\n",
       "      <td>2010.0</td>\n",
       "      <td>10.0</td>\n",
       "      <td>Minnesota</td>\n",
       "      <td>MN</td>\n",
       "      <td>MRO</td>\n",
       "      <td>East North Central</td>\n",
       "      <td>-1.5</td>\n",
       "      <td>cold</td>\n",
       "      <td>...</td>\n",
       "      <td>73.27</td>\n",
       "      <td>15.28</td>\n",
       "      <td>2279</td>\n",
       "      <td>1700.5</td>\n",
       "      <td>18.2</td>\n",
       "      <td>2.14</td>\n",
       "      <td>0.6</td>\n",
       "      <td>91.5927</td>\n",
       "      <td>8.40733</td>\n",
       "      <td>5.47874</td>\n",
       "    </tr>\n",
       "    <tr>\n",
       "      <th>4</th>\n",
       "      <td>NaN</td>\n",
       "      <td>4.0</td>\n",
       "      <td>2012.0</td>\n",
       "      <td>6.0</td>\n",
       "      <td>Minnesota</td>\n",
       "      <td>MN</td>\n",
       "      <td>MRO</td>\n",
       "      <td>East North Central</td>\n",
       "      <td>-0.1</td>\n",
       "      <td>normal</td>\n",
       "      <td>...</td>\n",
       "      <td>73.27</td>\n",
       "      <td>15.28</td>\n",
       "      <td>2279</td>\n",
       "      <td>1700.5</td>\n",
       "      <td>18.2</td>\n",
       "      <td>2.14</td>\n",
       "      <td>0.6</td>\n",
       "      <td>91.5927</td>\n",
       "      <td>8.40733</td>\n",
       "      <td>5.47874</td>\n",
       "    </tr>\n",
       "    <tr>\n",
       "      <th>...</th>\n",
       "      <td>...</td>\n",
       "      <td>...</td>\n",
       "      <td>...</td>\n",
       "      <td>...</td>\n",
       "      <td>...</td>\n",
       "      <td>...</td>\n",
       "      <td>...</td>\n",
       "      <td>...</td>\n",
       "      <td>...</td>\n",
       "      <td>...</td>\n",
       "      <td>...</td>\n",
       "      <td>...</td>\n",
       "      <td>...</td>\n",
       "      <td>...</td>\n",
       "      <td>...</td>\n",
       "      <td>...</td>\n",
       "      <td>...</td>\n",
       "      <td>...</td>\n",
       "      <td>...</td>\n",
       "      <td>...</td>\n",
       "      <td>...</td>\n",
       "    </tr>\n",
       "    <tr>\n",
       "      <th>1530</th>\n",
       "      <td>NaN</td>\n",
       "      <td>1530.0</td>\n",
       "      <td>2011.0</td>\n",
       "      <td>12.0</td>\n",
       "      <td>North Dakota</td>\n",
       "      <td>ND</td>\n",
       "      <td>MRO</td>\n",
       "      <td>West North Central</td>\n",
       "      <td>-0.9</td>\n",
       "      <td>cold</td>\n",
       "      <td>...</td>\n",
       "      <td>59.9</td>\n",
       "      <td>19.9</td>\n",
       "      <td>2192.2</td>\n",
       "      <td>1868.2</td>\n",
       "      <td>3.9</td>\n",
       "      <td>0.27</td>\n",
       "      <td>0.1</td>\n",
       "      <td>97.5996</td>\n",
       "      <td>2.40177</td>\n",
       "      <td>2.40177</td>\n",
       "    </tr>\n",
       "    <tr>\n",
       "      <th>1531</th>\n",
       "      <td>NaN</td>\n",
       "      <td>1531.0</td>\n",
       "      <td>2006.0</td>\n",
       "      <td>NaN</td>\n",
       "      <td>North Dakota</td>\n",
       "      <td>ND</td>\n",
       "      <td>MRO</td>\n",
       "      <td>West North Central</td>\n",
       "      <td>NaN</td>\n",
       "      <td>NaN</td>\n",
       "      <td>...</td>\n",
       "      <td>59.9</td>\n",
       "      <td>19.9</td>\n",
       "      <td>2192.2</td>\n",
       "      <td>1868.2</td>\n",
       "      <td>3.9</td>\n",
       "      <td>0.27</td>\n",
       "      <td>0.1</td>\n",
       "      <td>97.5996</td>\n",
       "      <td>2.40177</td>\n",
       "      <td>2.40177</td>\n",
       "    </tr>\n",
       "    <tr>\n",
       "      <th>1532</th>\n",
       "      <td>NaN</td>\n",
       "      <td>1532.0</td>\n",
       "      <td>2009.0</td>\n",
       "      <td>8.0</td>\n",
       "      <td>South Dakota</td>\n",
       "      <td>SD</td>\n",
       "      <td>RFC</td>\n",
       "      <td>West North Central</td>\n",
       "      <td>0.5</td>\n",
       "      <td>warm</td>\n",
       "      <td>...</td>\n",
       "      <td>56.65</td>\n",
       "      <td>26.73</td>\n",
       "      <td>2038.3</td>\n",
       "      <td>1905.4</td>\n",
       "      <td>4.7</td>\n",
       "      <td>0.3</td>\n",
       "      <td>0.15</td>\n",
       "      <td>98.3077</td>\n",
       "      <td>1.69226</td>\n",
       "      <td>1.69226</td>\n",
       "    </tr>\n",
       "    <tr>\n",
       "      <th>1533</th>\n",
       "      <td>NaN</td>\n",
       "      <td>1533.0</td>\n",
       "      <td>2009.0</td>\n",
       "      <td>8.0</td>\n",
       "      <td>South Dakota</td>\n",
       "      <td>SD</td>\n",
       "      <td>MRO</td>\n",
       "      <td>West North Central</td>\n",
       "      <td>0.5</td>\n",
       "      <td>warm</td>\n",
       "      <td>...</td>\n",
       "      <td>56.65</td>\n",
       "      <td>26.73</td>\n",
       "      <td>2038.3</td>\n",
       "      <td>1905.4</td>\n",
       "      <td>4.7</td>\n",
       "      <td>0.3</td>\n",
       "      <td>0.15</td>\n",
       "      <td>98.3077</td>\n",
       "      <td>1.69226</td>\n",
       "      <td>1.69226</td>\n",
       "    </tr>\n",
       "    <tr>\n",
       "      <th>1534</th>\n",
       "      <td>NaN</td>\n",
       "      <td>1534.0</td>\n",
       "      <td>2000.0</td>\n",
       "      <td>NaN</td>\n",
       "      <td>Alaska</td>\n",
       "      <td>AK</td>\n",
       "      <td>ASCC</td>\n",
       "      <td>NaN</td>\n",
       "      <td>NaN</td>\n",
       "      <td>NaN</td>\n",
       "      <td>...</td>\n",
       "      <td>66.02</td>\n",
       "      <td>21.56</td>\n",
       "      <td>1802.6</td>\n",
       "      <td>1276</td>\n",
       "      <td>0.4</td>\n",
       "      <td>0.05</td>\n",
       "      <td>0.02</td>\n",
       "      <td>85.7612</td>\n",
       "      <td>14.2388</td>\n",
       "      <td>2.90118</td>\n",
       "    </tr>\n",
       "  </tbody>\n",
       "</table>\n",
       "<p>1535 rows × 57 columns</p>\n",
       "</div>"
      ],
      "text/plain": [
       "     variables     OBS    YEAR  MONTH    U.S._STATE POSTAL.CODE NERC.REGION  \\\n",
       "0        Units     NaN     NaN    NaN           NaN         NaN         NaN   \n",
       "1          NaN     1.0  2011.0    7.0     Minnesota          MN         MRO   \n",
       "2          NaN     2.0  2014.0    5.0     Minnesota          MN         MRO   \n",
       "3          NaN     3.0  2010.0   10.0     Minnesota          MN         MRO   \n",
       "4          NaN     4.0  2012.0    6.0     Minnesota          MN         MRO   \n",
       "...        ...     ...     ...    ...           ...         ...         ...   \n",
       "1530       NaN  1530.0  2011.0   12.0  North Dakota          ND         MRO   \n",
       "1531       NaN  1531.0  2006.0    NaN  North Dakota          ND         MRO   \n",
       "1532       NaN  1532.0  2009.0    8.0  South Dakota          SD         RFC   \n",
       "1533       NaN  1533.0  2009.0    8.0  South Dakota          SD         MRO   \n",
       "1534       NaN  1534.0  2000.0    NaN        Alaska          AK        ASCC   \n",
       "\n",
       "          CLIMATE.REGION ANOMALY.LEVEL CLIMATE.CATEGORY  ... POPPCT_URBAN  \\\n",
       "0                    NaN       numeric              NaN  ...            %   \n",
       "1     East North Central          -0.3           normal  ...        73.27   \n",
       "2     East North Central          -0.1           normal  ...        73.27   \n",
       "3     East North Central          -1.5             cold  ...        73.27   \n",
       "4     East North Central          -0.1           normal  ...        73.27   \n",
       "...                  ...           ...              ...  ...          ...   \n",
       "1530  West North Central          -0.9             cold  ...         59.9   \n",
       "1531  West North Central           NaN              NaN  ...         59.9   \n",
       "1532  West North Central           0.5             warm  ...        56.65   \n",
       "1533  West North Central           0.5             warm  ...        56.65   \n",
       "1534                 NaN           NaN              NaN  ...        66.02   \n",
       "\n",
       "     POPPCT_UC             POPDEN_URBAN                POPDEN_UC  \\\n",
       "0            %  persons per square mile  persons per square mile   \n",
       "1        15.28                     2279                   1700.5   \n",
       "2        15.28                     2279                   1700.5   \n",
       "3        15.28                     2279                   1700.5   \n",
       "4        15.28                     2279                   1700.5   \n",
       "...        ...                      ...                      ...   \n",
       "1530      19.9                   2192.2                   1868.2   \n",
       "1531      19.9                   2192.2                   1868.2   \n",
       "1532     26.73                   2038.3                   1905.4   \n",
       "1533     26.73                   2038.3                   1905.4   \n",
       "1534     21.56                   1802.6                     1276   \n",
       "\n",
       "                 POPDEN_RURAL AREAPCT_URBAN AREAPCT_UC PCT_LAND PCT_WATER_TOT  \\\n",
       "0     persons per square mile             %          %        %             %   \n",
       "1                        18.2          2.14        0.6  91.5927       8.40733   \n",
       "2                        18.2          2.14        0.6  91.5927       8.40733   \n",
       "3                        18.2          2.14        0.6  91.5927       8.40733   \n",
       "4                        18.2          2.14        0.6  91.5927       8.40733   \n",
       "...                       ...           ...        ...      ...           ...   \n",
       "1530                      3.9          0.27        0.1  97.5996       2.40177   \n",
       "1531                      3.9          0.27        0.1  97.5996       2.40177   \n",
       "1532                      4.7           0.3       0.15  98.3077       1.69226   \n",
       "1533                      4.7           0.3       0.15  98.3077       1.69226   \n",
       "1534                      0.4          0.05       0.02  85.7612       14.2388   \n",
       "\n",
       "      PCT_WATER_INLAND  \n",
       "0                    %  \n",
       "1              5.47874  \n",
       "2              5.47874  \n",
       "3              5.47874  \n",
       "4              5.47874  \n",
       "...                ...  \n",
       "1530           2.40177  \n",
       "1531           2.40177  \n",
       "1532           1.69226  \n",
       "1533           1.69226  \n",
       "1534           2.90118  \n",
       "\n",
       "[1535 rows x 57 columns]"
      ]
     },
     "execution_count": 2,
     "metadata": {},
     "output_type": "execute_result"
    }
   ],
   "source": [
    "# load in the dataset\n",
    "outages = pd.read_excel('outage', header=5)\n",
    "outages"
   ]
  },
  {
   "cell_type": "markdown",
   "metadata": {},
   "source": [
    "### Cleaning and EDA"
   ]
  },
  {
   "cell_type": "markdown",
   "metadata": {},
   "source": [
    "To begin cleaning we will be removing unecessary rows and columns and combining date and time columns"
   ]
  },
  {
   "cell_type": "code",
   "execution_count": 3,
   "metadata": {
    "ExecuteTime": {
     "end_time": "2019-10-31T23:36:28.657068Z",
     "start_time": "2019-10-31T23:36:28.654650Z"
    },
    "scrolled": true
   },
   "outputs": [],
   "source": [
    "# dropping unecessary rows and columns\n",
    "\n",
    "outages = outages.drop(0)\n",
    "outages = outages.drop(['variables', 'OBS'], axis=1)"
   ]
  },
  {
   "cell_type": "code",
   "execution_count": 4,
   "metadata": {},
   "outputs": [],
   "source": [
    "# combine OUTAGE.START.DATE and OUTAGE.START.TIME\n",
    "\n",
    "outages['OUTAGE.START.DATE'] = pd.to_datetime(outages['OUTAGE.START.DATE'], format='%Y-%m-%d').dt.date\n",
    "outages['OUTAGE.START.TIME'] = pd.to_datetime(outages['OUTAGE.START.TIME'], format='%H:%M:%S').dt.time\n",
    "\n",
    "outages['OUTAGE.START'] = pd.to_datetime(outages['OUTAGE.START.DATE'].astype(str) + ' ' + outages['OUTAGE.START.TIME'].astype(str), errors='coerce')\n",
    "outages = outages.drop(['OUTAGE.START.DATE', 'OUTAGE.START.TIME'], axis=1)"
   ]
  },
  {
   "cell_type": "code",
   "execution_count": 5,
   "metadata": {},
   "outputs": [],
   "source": [
    "# combine OUTAGE.RESTORATION.DATE and OUTAGE.RESTORATION.TIME\n",
    "\n",
    "outages['OUTAGE.RESTORATION.DATE'] = pd.to_datetime(outages['OUTAGE.RESTORATION.DATE'], format='%Y-%m-%d').dt.date\n",
    "outages['OUTAGE.RESTORATION.TIME'] = pd.to_datetime(outages['OUTAGE.RESTORATION.TIME'], format='%H:%M:%S').dt.time\n",
    "\n",
    "outages['OUTAGE.RESTORATION'] = pd.to_datetime(outages['OUTAGE.RESTORATION.DATE'].astype(str) + ' ' + outages['OUTAGE.RESTORATION.TIME'].astype(str), errors='coerce')\n",
    "outages = outages.drop(['OUTAGE.RESTORATION.DATE', 'OUTAGE.RESTORATION.TIME'], axis=1)"
   ]
  },
  {
   "cell_type": "markdown",
   "metadata": {},
   "source": [
    "Here is the dataframe after the data-cleaning process"
   ]
  },
  {
   "cell_type": "code",
   "execution_count": 6,
   "metadata": {},
   "outputs": [
    {
     "data": {
      "text/html": [
       "<div>\n",
       "<style scoped>\n",
       "    .dataframe tbody tr th:only-of-type {\n",
       "        vertical-align: middle;\n",
       "    }\n",
       "\n",
       "    .dataframe tbody tr th {\n",
       "        vertical-align: top;\n",
       "    }\n",
       "\n",
       "    .dataframe thead th {\n",
       "        text-align: right;\n",
       "    }\n",
       "</style>\n",
       "<table border=\"1\" class=\"dataframe\">\n",
       "  <thead>\n",
       "    <tr style=\"text-align: right;\">\n",
       "      <th></th>\n",
       "      <th>YEAR</th>\n",
       "      <th>MONTH</th>\n",
       "      <th>U.S._STATE</th>\n",
       "      <th>POSTAL.CODE</th>\n",
       "      <th>NERC.REGION</th>\n",
       "      <th>CLIMATE.REGION</th>\n",
       "      <th>ANOMALY.LEVEL</th>\n",
       "      <th>CLIMATE.CATEGORY</th>\n",
       "      <th>CAUSE.CATEGORY</th>\n",
       "      <th>CAUSE.CATEGORY.DETAIL</th>\n",
       "      <th>...</th>\n",
       "      <th>POPDEN_URBAN</th>\n",
       "      <th>POPDEN_UC</th>\n",
       "      <th>POPDEN_RURAL</th>\n",
       "      <th>AREAPCT_URBAN</th>\n",
       "      <th>AREAPCT_UC</th>\n",
       "      <th>PCT_LAND</th>\n",
       "      <th>PCT_WATER_TOT</th>\n",
       "      <th>PCT_WATER_INLAND</th>\n",
       "      <th>OUTAGE.START</th>\n",
       "      <th>OUTAGE.RESTORATION</th>\n",
       "    </tr>\n",
       "  </thead>\n",
       "  <tbody>\n",
       "    <tr>\n",
       "      <th>1</th>\n",
       "      <td>2011.0</td>\n",
       "      <td>7.0</td>\n",
       "      <td>Minnesota</td>\n",
       "      <td>MN</td>\n",
       "      <td>MRO</td>\n",
       "      <td>East North Central</td>\n",
       "      <td>-0.3</td>\n",
       "      <td>normal</td>\n",
       "      <td>severe weather</td>\n",
       "      <td>NaN</td>\n",
       "      <td>...</td>\n",
       "      <td>2279</td>\n",
       "      <td>1700.5</td>\n",
       "      <td>18.2</td>\n",
       "      <td>2.14</td>\n",
       "      <td>0.6</td>\n",
       "      <td>91.5927</td>\n",
       "      <td>8.40733</td>\n",
       "      <td>5.47874</td>\n",
       "      <td>2011-07-01 17:00:00</td>\n",
       "      <td>2011-07-03 20:00:00</td>\n",
       "    </tr>\n",
       "    <tr>\n",
       "      <th>2</th>\n",
       "      <td>2014.0</td>\n",
       "      <td>5.0</td>\n",
       "      <td>Minnesota</td>\n",
       "      <td>MN</td>\n",
       "      <td>MRO</td>\n",
       "      <td>East North Central</td>\n",
       "      <td>-0.1</td>\n",
       "      <td>normal</td>\n",
       "      <td>intentional attack</td>\n",
       "      <td>vandalism</td>\n",
       "      <td>...</td>\n",
       "      <td>2279</td>\n",
       "      <td>1700.5</td>\n",
       "      <td>18.2</td>\n",
       "      <td>2.14</td>\n",
       "      <td>0.6</td>\n",
       "      <td>91.5927</td>\n",
       "      <td>8.40733</td>\n",
       "      <td>5.47874</td>\n",
       "      <td>2014-05-11 18:38:00</td>\n",
       "      <td>2014-05-11 18:39:00</td>\n",
       "    </tr>\n",
       "    <tr>\n",
       "      <th>3</th>\n",
       "      <td>2010.0</td>\n",
       "      <td>10.0</td>\n",
       "      <td>Minnesota</td>\n",
       "      <td>MN</td>\n",
       "      <td>MRO</td>\n",
       "      <td>East North Central</td>\n",
       "      <td>-1.5</td>\n",
       "      <td>cold</td>\n",
       "      <td>severe weather</td>\n",
       "      <td>heavy wind</td>\n",
       "      <td>...</td>\n",
       "      <td>2279</td>\n",
       "      <td>1700.5</td>\n",
       "      <td>18.2</td>\n",
       "      <td>2.14</td>\n",
       "      <td>0.6</td>\n",
       "      <td>91.5927</td>\n",
       "      <td>8.40733</td>\n",
       "      <td>5.47874</td>\n",
       "      <td>2010-10-26 20:00:00</td>\n",
       "      <td>2010-10-28 22:00:00</td>\n",
       "    </tr>\n",
       "    <tr>\n",
       "      <th>4</th>\n",
       "      <td>2012.0</td>\n",
       "      <td>6.0</td>\n",
       "      <td>Minnesota</td>\n",
       "      <td>MN</td>\n",
       "      <td>MRO</td>\n",
       "      <td>East North Central</td>\n",
       "      <td>-0.1</td>\n",
       "      <td>normal</td>\n",
       "      <td>severe weather</td>\n",
       "      <td>thunderstorm</td>\n",
       "      <td>...</td>\n",
       "      <td>2279</td>\n",
       "      <td>1700.5</td>\n",
       "      <td>18.2</td>\n",
       "      <td>2.14</td>\n",
       "      <td>0.6</td>\n",
       "      <td>91.5927</td>\n",
       "      <td>8.40733</td>\n",
       "      <td>5.47874</td>\n",
       "      <td>2012-06-19 04:30:00</td>\n",
       "      <td>2012-06-20 23:00:00</td>\n",
       "    </tr>\n",
       "    <tr>\n",
       "      <th>5</th>\n",
       "      <td>2015.0</td>\n",
       "      <td>7.0</td>\n",
       "      <td>Minnesota</td>\n",
       "      <td>MN</td>\n",
       "      <td>MRO</td>\n",
       "      <td>East North Central</td>\n",
       "      <td>1.2</td>\n",
       "      <td>warm</td>\n",
       "      <td>severe weather</td>\n",
       "      <td>NaN</td>\n",
       "      <td>...</td>\n",
       "      <td>2279</td>\n",
       "      <td>1700.5</td>\n",
       "      <td>18.2</td>\n",
       "      <td>2.14</td>\n",
       "      <td>0.6</td>\n",
       "      <td>91.5927</td>\n",
       "      <td>8.40733</td>\n",
       "      <td>5.47874</td>\n",
       "      <td>2015-07-18 02:00:00</td>\n",
       "      <td>2015-07-19 07:00:00</td>\n",
       "    </tr>\n",
       "  </tbody>\n",
       "</table>\n",
       "<p>5 rows × 53 columns</p>\n",
       "</div>"
      ],
      "text/plain": [
       "     YEAR  MONTH U.S._STATE POSTAL.CODE NERC.REGION      CLIMATE.REGION  \\\n",
       "1  2011.0    7.0  Minnesota          MN         MRO  East North Central   \n",
       "2  2014.0    5.0  Minnesota          MN         MRO  East North Central   \n",
       "3  2010.0   10.0  Minnesota          MN         MRO  East North Central   \n",
       "4  2012.0    6.0  Minnesota          MN         MRO  East North Central   \n",
       "5  2015.0    7.0  Minnesota          MN         MRO  East North Central   \n",
       "\n",
       "  ANOMALY.LEVEL CLIMATE.CATEGORY      CAUSE.CATEGORY CAUSE.CATEGORY.DETAIL  \\\n",
       "1          -0.3           normal      severe weather                   NaN   \n",
       "2          -0.1           normal  intentional attack             vandalism   \n",
       "3          -1.5             cold      severe weather            heavy wind   \n",
       "4          -0.1           normal      severe weather          thunderstorm   \n",
       "5           1.2             warm      severe weather                   NaN   \n",
       "\n",
       "   ... POPDEN_URBAN POPDEN_UC POPDEN_RURAL  AREAPCT_URBAN AREAPCT_UC PCT_LAND  \\\n",
       "1  ...         2279    1700.5         18.2           2.14        0.6  91.5927   \n",
       "2  ...         2279    1700.5         18.2           2.14        0.6  91.5927   \n",
       "3  ...         2279    1700.5         18.2           2.14        0.6  91.5927   \n",
       "4  ...         2279    1700.5         18.2           2.14        0.6  91.5927   \n",
       "5  ...         2279    1700.5         18.2           2.14        0.6  91.5927   \n",
       "\n",
       "  PCT_WATER_TOT PCT_WATER_INLAND        OUTAGE.START  OUTAGE.RESTORATION  \n",
       "1       8.40733          5.47874 2011-07-01 17:00:00 2011-07-03 20:00:00  \n",
       "2       8.40733          5.47874 2014-05-11 18:38:00 2014-05-11 18:39:00  \n",
       "3       8.40733          5.47874 2010-10-26 20:00:00 2010-10-28 22:00:00  \n",
       "4       8.40733          5.47874 2012-06-19 04:30:00 2012-06-20 23:00:00  \n",
       "5       8.40733          5.47874 2015-07-18 02:00:00 2015-07-19 07:00:00  \n",
       "\n",
       "[5 rows x 53 columns]"
      ]
     },
     "execution_count": 6,
     "metadata": {},
     "output_type": "execute_result"
    }
   ],
   "source": [
    "outages.head()"
   ]
  },
  {
   "cell_type": "markdown",
   "metadata": {},
   "source": [
    "Next we can do some univariate and bivariate analysis of the data looking at some statistics"
   ]
  },
  {
   "cell_type": "code",
   "execution_count": 7,
   "metadata": {},
   "outputs": [
    {
     "name": "stdout",
     "output_type": "stream",
     "text": [
      "Average Outage Time:  43.76  hours\n",
      "Shortest Outage Time:  0.0  hours\n",
      "Number of Outages Under 5 min:  195\n",
      "Longest Outage Time:  1810.88  hours\n",
      "Most common cause of outage:  thunderstorm\n",
      "Average Number of People Effected:  143456.22273143905\n"
     ]
    }
   ],
   "source": [
    "# Univariate Analysis\n",
    "\n",
    "average_outage_time = outages['OUTAGE.DURATION'].mean()\n",
    "print('Average Outage Time: ', round((average_outage_time / 60), 2), ' hours')\n",
    "\n",
    "shortest_outage_time = outages['OUTAGE.DURATION'].min()\n",
    "print('Shortest Outage Time: ', round((shortest_outage_time / 60), 2), ' hours')\n",
    "\n",
    "short_outages = len(outages[outages['OUTAGE.DURATION'] <= 5])\n",
    "print('Number of Outages Under 5 min: ', str(short_outages))\n",
    "\n",
    "longest_outage_time = outages['OUTAGE.DURATION'].max()\n",
    "print('Longest Outage Time: ', round((longest_outage_time / 60), 2), ' hours')\n",
    "\n",
    "most_common_cause = outages['CAUSE.CATEGORY'].value_counts().idxmax()\n",
    "most_common_cause_detail = outages.loc[outages['CAUSE.CATEGORY']==most_common_cause]['CAUSE.CATEGORY.DETAIL'].value_counts().idxmax()\n",
    "print('Most common cause of outage: ', most_common_cause_detail)\n",
    "\n",
    "average_people_affected = outages['CUSTOMERS.AFFECTED'].mean()\n",
    "print('Average Number of People Effected: ',  average_people_affected)\n"
   ]
  },
  {
   "cell_type": "code",
   "execution_count": 8,
   "metadata": {},
   "outputs": [
    {
     "data": {
      "text/plain": [
       "CLIMATE.REGION\n",
       "Central               cold\n",
       "East North Central    cold\n",
       "Northeast             cold\n",
       "Northwest             cold\n",
       "South                 warm\n",
       "Southeast             cold\n",
       "Southwest             cold\n",
       "West                  cold\n",
       "West North Central    cold\n",
       "Name: CLIMATE.CATEGORY, dtype: object"
      ]
     },
     "execution_count": 8,
     "metadata": {},
     "output_type": "execute_result"
    }
   ],
   "source": [
    "# finding the most common CLIMATE.CATEGORY (not normal) by CLIMATE.REGION\n",
    "\n",
    "climate = outages[outages['CLIMATE.CATEGORY'] != 'normal']\n",
    "region_category = climate.groupby('CLIMATE.REGION')['CLIMATE.CATEGORY'].agg(pd.Series.mode)\n",
    "region_category"
   ]
  },
  {
   "cell_type": "code",
   "execution_count": 9,
   "metadata": {},
   "outputs": [
    {
     "data": {
      "text/plain": [
       "OUTAGE.DURATION Bins\n",
       "short           140278.388202\n",
       "medium short    951009.200000\n",
       "medium long               NaN\n",
       "long                      NaN\n",
       "Name: CUSTOMERS.AFFECTED, dtype: float64"
      ]
     },
     "execution_count": 9,
     "metadata": {},
     "output_type": "execute_result"
    }
   ],
   "source": [
    "# finding the average number of CUSTOMERS.AFFECTED based on duration of outage\n",
    "\n",
    "bins = 4\n",
    "labels =['short', 'medium short', 'medium long', 'long']\n",
    "df = outages.copy()\n",
    "df['OUTAGE.DURATION Bins'] = pd.cut(df['OUTAGE.DURATION'].dropna(), bins, labels=labels)\n",
    "df.groupby('OUTAGE.DURATION Bins')['CUSTOMERS.AFFECTED'].mean()"
   ]
  },
  {
   "cell_type": "code",
   "execution_count": 10,
   "metadata": {},
   "outputs": [
    {
     "data": {
      "text/plain": [
       "OUTAGE.DURATION Bins\n",
       "short           1051\n",
       "medium short       5\n",
       "medium long        0\n",
       "long               0\n",
       "Name: CUSTOMERS.AFFECTED, dtype: int64"
      ]
     },
     "execution_count": 10,
     "metadata": {},
     "output_type": "execute_result"
    }
   ],
   "source": [
    "# finding the number of CUSTOMERS.AFFECTED records based on duration of outage\n",
    "# here it seems like longer outage duration do not have CUSTOMERS.AFFECTED recorded\n",
    "\n",
    "bins = 4\n",
    "labels =['short', 'medium short', 'medium long', 'long']\n",
    "df = outages.copy()\n",
    "df['OUTAGE.DURATION Bins'] = pd.cut(df['OUTAGE.DURATION'].dropna(), bins, labels=labels)\n",
    "df.groupby('OUTAGE.DURATION Bins')['CUSTOMERS.AFFECTED'].count()"
   ]
  },
  {
   "cell_type": "markdown",
   "metadata": {},
   "source": [
    "Next we will be looking at the missingness in the data"
   ]
  },
  {
   "cell_type": "code",
   "execution_count": null,
   "metadata": {},
   "outputs": [],
   "source": []
  },
  {
   "cell_type": "code",
   "execution_count": 11,
   "metadata": {},
   "outputs": [
    {
     "data": {
      "text/plain": [
       "YEAR                            float64\n",
       "MONTH                           float64\n",
       "U.S._STATE                       object\n",
       "POSTAL.CODE                      object\n",
       "NERC.REGION                      object\n",
       "CLIMATE.REGION                   object\n",
       "ANOMALY.LEVEL                    object\n",
       "CLIMATE.CATEGORY                 object\n",
       "CAUSE.CATEGORY                   object\n",
       "CAUSE.CATEGORY.DETAIL            object\n",
       "HURRICANE.NAMES                  object\n",
       "OUTAGE.DURATION                   int64\n",
       "DEMAND.LOSS.MW                   object\n",
       "CUSTOMERS.AFFECTED              float64\n",
       "RES.PRICE                        object\n",
       "COM.PRICE                        object\n",
       "IND.PRICE                        object\n",
       "TOTAL.PRICE                      object\n",
       "RES.SALES                        object\n",
       "COM.SALES                        object\n",
       "IND.SALES                        object\n",
       "TOTAL.SALES                      object\n",
       "RES.PERCEN                       object\n",
       "COM.PERCEN                       object\n",
       "IND.PERCEN                       object\n",
       "RES.CUSTOMERS                   float64\n",
       "COM.CUSTOMERS                   float64\n",
       "IND.CUSTOMERS                   float64\n",
       "TOTAL.CUSTOMERS                 float64\n",
       "RES.CUST.PCT                     object\n",
       "COM.CUST.PCT                     object\n",
       "IND.CUST.PCT                     object\n",
       "PC.REALGSP.STATE                 object\n",
       "PC.REALGSP.USA                   object\n",
       "PC.REALGSP.REL                   object\n",
       "PC.REALGSP.CHANGE                object\n",
       "UTIL.REALGSP                     object\n",
       "TOTAL.REALGSP                    object\n",
       "UTIL.CONTRI                      object\n",
       "PI.UTIL.OFUSA                    object\n",
       "POPULATION                      float64\n",
       "POPPCT_URBAN                     object\n",
       "POPPCT_UC                        object\n",
       "POPDEN_URBAN                     object\n",
       "POPDEN_UC                        object\n",
       "POPDEN_RURAL                     object\n",
       "AREAPCT_URBAN                    object\n",
       "AREAPCT_UC                       object\n",
       "PCT_LAND                         object\n",
       "PCT_WATER_TOT                    object\n",
       "PCT_WATER_INLAND                 object\n",
       "OUTAGE.START             datetime64[ns]\n",
       "OUTAGE.RESTORATION       datetime64[ns]\n",
       "dtype: object"
      ]
     },
     "execution_count": 11,
     "metadata": {},
     "output_type": "execute_result"
    }
   ],
   "source": [
    "# remove null values\n",
    "pd.options.mode.chained_assignment = None\n",
    "outage_duration= outages[outages['OUTAGE.DURATION'].notna()]\n",
    "outage_duration[\"OUTAGE.DURATION\"]=outage_duration[\"OUTAGE.DURATION\"].astype('int64')\n",
    "outage_types = outage_duration.dtypes\n",
    "outage_types"
   ]
  },
  {
   "cell_type": "code",
   "execution_count": 12,
   "metadata": {},
   "outputs": [
    {
     "data": {
      "text/plain": [
       "CLIMATE.REGION\n",
       "East North Central    5352.043796\n",
       "Northeast             2991.656977\n",
       "South                 2846.100917\n",
       "Central               2701.130890\n",
       "Southeast             2217.686667\n",
       "West                  1628.331707\n",
       "Southwest             1566.136364\n",
       "Northwest             1284.500000\n",
       "West North Central     696.562500\n",
       "Name: OUTAGE.DURATION, dtype: float64"
      ]
     },
     "execution_count": 12,
     "metadata": {},
     "output_type": "execute_result"
    }
   ],
   "source": [
    "# average outage duration by climate region\n",
    "outage_duration.groupby(['CLIMATE.REGION'])['OUTAGE.DURATION'].mean().sort_values(ascending=False)"
   ]
  },
  {
   "cell_type": "code",
   "execution_count": 13,
   "metadata": {
    "scrolled": true
   },
   "outputs": [
    {
     "data": {
      "text/plain": [
       "1       73.27\n",
       "2       73.27\n",
       "3       73.27\n",
       "4       73.27\n",
       "5       73.27\n",
       "        ...  \n",
       "1527    70.58\n",
       "1529    70.58\n",
       "1530    59.90\n",
       "1532    56.65\n",
       "1533    56.65\n",
       "Name: POPPCT_URBAN, Length: 1476, dtype: float64"
      ]
     },
     "execution_count": 13,
     "metadata": {},
     "output_type": "execute_result"
    }
   ],
   "source": [
    "# \n",
    "outage_duration['POPPCT_URBAN'].astype(str).astype(float)"
   ]
  },
  {
   "cell_type": "code",
   "execution_count": 14,
   "metadata": {},
   "outputs": [
    {
     "data": {
      "text/plain": [
       "POPPCT_URBAN\n",
       "64.76       33.333333\n",
       "38.90       35.444444\n",
       "55.89       54.000000\n",
       "49.35       84.000000\n",
       "56.65      120.000000\n",
       "77.43      140.375000\n",
       "83.30      144.925000\n",
       "90.58      250.219512\n",
       "60.30      279.642857\n",
       "70.58      414.625000\n",
       "94.20      553.285714\n",
       "59.90      720.000000\n",
       "81.03      766.680000\n",
       "91.93      845.400000\n",
       "86.15      901.071429\n",
       "91.97      944.166667\n",
       "66.39     1041.967742\n",
       "75.45     1051.194444\n",
       "38.66     1097.055556\n",
       "59.04     1152.800000\n",
       "87.99     1278.833333\n",
       "75.07     1345.411765\n",
       "66.09     1457.282051\n",
       "84.05     1508.146067\n",
       "56.16     1514.360000\n",
       "88.49     1602.454545\n",
       "94.95     1666.338384\n",
       "87.20     2313.086207\n",
       "73.13     2455.750000\n",
       "84.70     2704.819672\n",
       "73.27     2727.933333\n",
       "77.92     2867.857143\n",
       "66.24     3019.090909\n",
       "66.33     3135.000000\n",
       "70.44     3374.066667\n",
       "72.44     3521.642857\n",
       "78.66     3811.701754\n",
       "73.19     4084.552632\n",
       "91.16     4094.666667\n",
       "100.00    4303.600000\n",
       "74.20     4376.285714\n",
       "94.68     4450.906250\n",
       "89.81     4552.920000\n",
       "64.02     4793.750000\n",
       "58.38     5093.923077\n",
       "74.57     5302.978947\n",
       "87.87     6034.957143\n",
       "48.72     6979.000000\n",
       "70.15     7904.105263\n",
       "Name: OUTAGE.DURATION, dtype: float64"
      ]
     },
     "execution_count": 14,
     "metadata": {},
     "output_type": "execute_result"
    }
   ],
   "source": [
    "# average outage duration by urban population count\n",
    "urban= outage_duration.groupby(['POPPCT_URBAN'])['OUTAGE.DURATION'].mean().sort_values(ascending=True)\n",
    "urban"
   ]
  },
  {
   "cell_type": "code",
   "execution_count": 15,
   "metadata": {},
   "outputs": [
    {
     "data": {
      "text/plain": [
       "80.94572493224909"
      ]
     },
     "execution_count": 15,
     "metadata": {},
     "output_type": "execute_result"
    }
   ],
   "source": [
    "# average urban population \n",
    "urban_population = outage_duration['POPPCT_URBAN'].mean()\n",
    "urban_population"
   ]
  },
  {
   "cell_type": "code",
   "execution_count": 16,
   "metadata": {},
   "outputs": [
    {
     "data": {
      "text/plain": [
       "1       False\n",
       "2       False\n",
       "3       False\n",
       "4       False\n",
       "5       False\n",
       "        ...  \n",
       "1527    False\n",
       "1529    False\n",
       "1530    False\n",
       "1532    False\n",
       "1533    False\n",
       "Name: IS_URBAN, Length: 1476, dtype: bool"
      ]
     },
     "execution_count": 16,
     "metadata": {},
     "output_type": "execute_result"
    }
   ],
   "source": [
    "#distinguish between urban/non-urban population using \"urban_population\" as threshold\n",
    "outage_duration['IS_URBAN'] = outage_duration['POPPCT_URBAN']. apply(lambda x: True if x>urban_population else False)\n",
    "outage_duration['IS_URBAN']"
   ]
  },
  {
   "cell_type": "code",
   "execution_count": 17,
   "metadata": {},
   "outputs": [
    {
     "data": {
      "text/html": [
       "<div>\n",
       "<style scoped>\n",
       "    .dataframe tbody tr th:only-of-type {\n",
       "        vertical-align: middle;\n",
       "    }\n",
       "\n",
       "    .dataframe tbody tr th {\n",
       "        vertical-align: top;\n",
       "    }\n",
       "\n",
       "    .dataframe thead th {\n",
       "        text-align: right;\n",
       "    }\n",
       "</style>\n",
       "<table border=\"1\" class=\"dataframe\">\n",
       "  <thead>\n",
       "    <tr style=\"text-align: right;\">\n",
       "      <th></th>\n",
       "      <th>YEAR</th>\n",
       "      <th>MONTH</th>\n",
       "      <th>U.S._STATE</th>\n",
       "      <th>POSTAL.CODE</th>\n",
       "      <th>NERC.REGION</th>\n",
       "      <th>CLIMATE.REGION</th>\n",
       "      <th>ANOMALY.LEVEL</th>\n",
       "      <th>CLIMATE.CATEGORY</th>\n",
       "      <th>CAUSE.CATEGORY</th>\n",
       "      <th>CAUSE.CATEGORY.DETAIL</th>\n",
       "      <th>...</th>\n",
       "      <th>POPDEN_UC</th>\n",
       "      <th>POPDEN_RURAL</th>\n",
       "      <th>AREAPCT_URBAN</th>\n",
       "      <th>AREAPCT_UC</th>\n",
       "      <th>PCT_LAND</th>\n",
       "      <th>PCT_WATER_TOT</th>\n",
       "      <th>PCT_WATER_INLAND</th>\n",
       "      <th>OUTAGE.START</th>\n",
       "      <th>OUTAGE.RESTORATION</th>\n",
       "      <th>IS_URBAN</th>\n",
       "    </tr>\n",
       "  </thead>\n",
       "  <tbody>\n",
       "    <tr>\n",
       "      <th>1</th>\n",
       "      <td>2011.0</td>\n",
       "      <td>7.0</td>\n",
       "      <td>Minnesota</td>\n",
       "      <td>MN</td>\n",
       "      <td>MRO</td>\n",
       "      <td>East North Central</td>\n",
       "      <td>-0.3</td>\n",
       "      <td>normal</td>\n",
       "      <td>severe weather</td>\n",
       "      <td>NaN</td>\n",
       "      <td>...</td>\n",
       "      <td>1700.5</td>\n",
       "      <td>18.2</td>\n",
       "      <td>2.14</td>\n",
       "      <td>0.6</td>\n",
       "      <td>91.5927</td>\n",
       "      <td>8.40733</td>\n",
       "      <td>5.47874</td>\n",
       "      <td>2011-07-01 17:00:00</td>\n",
       "      <td>2011-07-03 20:00:00</td>\n",
       "      <td>False</td>\n",
       "    </tr>\n",
       "    <tr>\n",
       "      <th>2</th>\n",
       "      <td>2014.0</td>\n",
       "      <td>5.0</td>\n",
       "      <td>Minnesota</td>\n",
       "      <td>MN</td>\n",
       "      <td>MRO</td>\n",
       "      <td>East North Central</td>\n",
       "      <td>-0.1</td>\n",
       "      <td>normal</td>\n",
       "      <td>intentional attack</td>\n",
       "      <td>vandalism</td>\n",
       "      <td>...</td>\n",
       "      <td>1700.5</td>\n",
       "      <td>18.2</td>\n",
       "      <td>2.14</td>\n",
       "      <td>0.6</td>\n",
       "      <td>91.5927</td>\n",
       "      <td>8.40733</td>\n",
       "      <td>5.47874</td>\n",
       "      <td>2014-05-11 18:38:00</td>\n",
       "      <td>2014-05-11 18:39:00</td>\n",
       "      <td>False</td>\n",
       "    </tr>\n",
       "    <tr>\n",
       "      <th>3</th>\n",
       "      <td>2010.0</td>\n",
       "      <td>10.0</td>\n",
       "      <td>Minnesota</td>\n",
       "      <td>MN</td>\n",
       "      <td>MRO</td>\n",
       "      <td>East North Central</td>\n",
       "      <td>-1.5</td>\n",
       "      <td>cold</td>\n",
       "      <td>severe weather</td>\n",
       "      <td>heavy wind</td>\n",
       "      <td>...</td>\n",
       "      <td>1700.5</td>\n",
       "      <td>18.2</td>\n",
       "      <td>2.14</td>\n",
       "      <td>0.6</td>\n",
       "      <td>91.5927</td>\n",
       "      <td>8.40733</td>\n",
       "      <td>5.47874</td>\n",
       "      <td>2010-10-26 20:00:00</td>\n",
       "      <td>2010-10-28 22:00:00</td>\n",
       "      <td>False</td>\n",
       "    </tr>\n",
       "    <tr>\n",
       "      <th>4</th>\n",
       "      <td>2012.0</td>\n",
       "      <td>6.0</td>\n",
       "      <td>Minnesota</td>\n",
       "      <td>MN</td>\n",
       "      <td>MRO</td>\n",
       "      <td>East North Central</td>\n",
       "      <td>-0.1</td>\n",
       "      <td>normal</td>\n",
       "      <td>severe weather</td>\n",
       "      <td>thunderstorm</td>\n",
       "      <td>...</td>\n",
       "      <td>1700.5</td>\n",
       "      <td>18.2</td>\n",
       "      <td>2.14</td>\n",
       "      <td>0.6</td>\n",
       "      <td>91.5927</td>\n",
       "      <td>8.40733</td>\n",
       "      <td>5.47874</td>\n",
       "      <td>2012-06-19 04:30:00</td>\n",
       "      <td>2012-06-20 23:00:00</td>\n",
       "      <td>False</td>\n",
       "    </tr>\n",
       "    <tr>\n",
       "      <th>5</th>\n",
       "      <td>2015.0</td>\n",
       "      <td>7.0</td>\n",
       "      <td>Minnesota</td>\n",
       "      <td>MN</td>\n",
       "      <td>MRO</td>\n",
       "      <td>East North Central</td>\n",
       "      <td>1.2</td>\n",
       "      <td>warm</td>\n",
       "      <td>severe weather</td>\n",
       "      <td>NaN</td>\n",
       "      <td>...</td>\n",
       "      <td>1700.5</td>\n",
       "      <td>18.2</td>\n",
       "      <td>2.14</td>\n",
       "      <td>0.6</td>\n",
       "      <td>91.5927</td>\n",
       "      <td>8.40733</td>\n",
       "      <td>5.47874</td>\n",
       "      <td>2015-07-18 02:00:00</td>\n",
       "      <td>2015-07-19 07:00:00</td>\n",
       "      <td>False</td>\n",
       "    </tr>\n",
       "    <tr>\n",
       "      <th>6</th>\n",
       "      <td>2010.0</td>\n",
       "      <td>11.0</td>\n",
       "      <td>Minnesota</td>\n",
       "      <td>MN</td>\n",
       "      <td>MRO</td>\n",
       "      <td>East North Central</td>\n",
       "      <td>-1.4</td>\n",
       "      <td>cold</td>\n",
       "      <td>severe weather</td>\n",
       "      <td>winter storm</td>\n",
       "      <td>...</td>\n",
       "      <td>1700.5</td>\n",
       "      <td>18.2</td>\n",
       "      <td>2.14</td>\n",
       "      <td>0.6</td>\n",
       "      <td>91.5927</td>\n",
       "      <td>8.40733</td>\n",
       "      <td>5.47874</td>\n",
       "      <td>2010-11-13 15:00:00</td>\n",
       "      <td>2010-11-14 22:00:00</td>\n",
       "      <td>False</td>\n",
       "    </tr>\n",
       "    <tr>\n",
       "      <th>7</th>\n",
       "      <td>2010.0</td>\n",
       "      <td>7.0</td>\n",
       "      <td>Minnesota</td>\n",
       "      <td>MN</td>\n",
       "      <td>MRO</td>\n",
       "      <td>East North Central</td>\n",
       "      <td>-0.9</td>\n",
       "      <td>cold</td>\n",
       "      <td>severe weather</td>\n",
       "      <td>tornadoes</td>\n",
       "      <td>...</td>\n",
       "      <td>1700.5</td>\n",
       "      <td>18.2</td>\n",
       "      <td>2.14</td>\n",
       "      <td>0.6</td>\n",
       "      <td>91.5927</td>\n",
       "      <td>8.40733</td>\n",
       "      <td>5.47874</td>\n",
       "      <td>2010-07-17 20:30:00</td>\n",
       "      <td>2010-07-19 22:00:00</td>\n",
       "      <td>False</td>\n",
       "    </tr>\n",
       "    <tr>\n",
       "      <th>8</th>\n",
       "      <td>2005.0</td>\n",
       "      <td>6.0</td>\n",
       "      <td>Minnesota</td>\n",
       "      <td>MN</td>\n",
       "      <td>MRO</td>\n",
       "      <td>East North Central</td>\n",
       "      <td>0.2</td>\n",
       "      <td>normal</td>\n",
       "      <td>severe weather</td>\n",
       "      <td>thunderstorm</td>\n",
       "      <td>...</td>\n",
       "      <td>1700.5</td>\n",
       "      <td>18.2</td>\n",
       "      <td>2.14</td>\n",
       "      <td>0.6</td>\n",
       "      <td>91.5927</td>\n",
       "      <td>8.40733</td>\n",
       "      <td>5.47874</td>\n",
       "      <td>2005-06-08 04:00:00</td>\n",
       "      <td>2005-06-10 22:00:00</td>\n",
       "      <td>False</td>\n",
       "    </tr>\n",
       "    <tr>\n",
       "      <th>9</th>\n",
       "      <td>2015.0</td>\n",
       "      <td>3.0</td>\n",
       "      <td>Minnesota</td>\n",
       "      <td>MN</td>\n",
       "      <td>MRO</td>\n",
       "      <td>East North Central</td>\n",
       "      <td>0.6</td>\n",
       "      <td>warm</td>\n",
       "      <td>intentional attack</td>\n",
       "      <td>sabotage</td>\n",
       "      <td>...</td>\n",
       "      <td>1700.5</td>\n",
       "      <td>18.2</td>\n",
       "      <td>2.14</td>\n",
       "      <td>0.6</td>\n",
       "      <td>91.5927</td>\n",
       "      <td>8.40733</td>\n",
       "      <td>5.47874</td>\n",
       "      <td>2015-03-16 07:31:00</td>\n",
       "      <td>2015-03-16 10:06:00</td>\n",
       "      <td>False</td>\n",
       "    </tr>\n",
       "    <tr>\n",
       "      <th>10</th>\n",
       "      <td>2013.0</td>\n",
       "      <td>6.0</td>\n",
       "      <td>Minnesota</td>\n",
       "      <td>MN</td>\n",
       "      <td>MRO</td>\n",
       "      <td>East North Central</td>\n",
       "      <td>-0.2</td>\n",
       "      <td>normal</td>\n",
       "      <td>severe weather</td>\n",
       "      <td>hailstorm</td>\n",
       "      <td>...</td>\n",
       "      <td>1700.5</td>\n",
       "      <td>18.2</td>\n",
       "      <td>2.14</td>\n",
       "      <td>0.6</td>\n",
       "      <td>91.5927</td>\n",
       "      <td>8.40733</td>\n",
       "      <td>5.47874</td>\n",
       "      <td>2013-06-21 17:39:00</td>\n",
       "      <td>2013-06-24 06:00:00</td>\n",
       "      <td>False</td>\n",
       "    </tr>\n",
       "  </tbody>\n",
       "</table>\n",
       "<p>10 rows × 54 columns</p>\n",
       "</div>"
      ],
      "text/plain": [
       "      YEAR  MONTH U.S._STATE POSTAL.CODE NERC.REGION      CLIMATE.REGION  \\\n",
       "1   2011.0    7.0  Minnesota          MN         MRO  East North Central   \n",
       "2   2014.0    5.0  Minnesota          MN         MRO  East North Central   \n",
       "3   2010.0   10.0  Minnesota          MN         MRO  East North Central   \n",
       "4   2012.0    6.0  Minnesota          MN         MRO  East North Central   \n",
       "5   2015.0    7.0  Minnesota          MN         MRO  East North Central   \n",
       "6   2010.0   11.0  Minnesota          MN         MRO  East North Central   \n",
       "7   2010.0    7.0  Minnesota          MN         MRO  East North Central   \n",
       "8   2005.0    6.0  Minnesota          MN         MRO  East North Central   \n",
       "9   2015.0    3.0  Minnesota          MN         MRO  East North Central   \n",
       "10  2013.0    6.0  Minnesota          MN         MRO  East North Central   \n",
       "\n",
       "   ANOMALY.LEVEL CLIMATE.CATEGORY      CAUSE.CATEGORY CAUSE.CATEGORY.DETAIL  \\\n",
       "1           -0.3           normal      severe weather                   NaN   \n",
       "2           -0.1           normal  intentional attack             vandalism   \n",
       "3           -1.5             cold      severe weather            heavy wind   \n",
       "4           -0.1           normal      severe weather          thunderstorm   \n",
       "5            1.2             warm      severe weather                   NaN   \n",
       "6           -1.4             cold      severe weather          winter storm   \n",
       "7           -0.9             cold      severe weather             tornadoes   \n",
       "8            0.2           normal      severe weather          thunderstorm   \n",
       "9            0.6             warm  intentional attack              sabotage   \n",
       "10          -0.2           normal      severe weather             hailstorm   \n",
       "\n",
       "    ... POPDEN_UC  POPDEN_RURAL AREAPCT_URBAN  AREAPCT_UC PCT_LAND  \\\n",
       "1   ...    1700.5          18.2          2.14         0.6  91.5927   \n",
       "2   ...    1700.5          18.2          2.14         0.6  91.5927   \n",
       "3   ...    1700.5          18.2          2.14         0.6  91.5927   \n",
       "4   ...    1700.5          18.2          2.14         0.6  91.5927   \n",
       "5   ...    1700.5          18.2          2.14         0.6  91.5927   \n",
       "6   ...    1700.5          18.2          2.14         0.6  91.5927   \n",
       "7   ...    1700.5          18.2          2.14         0.6  91.5927   \n",
       "8   ...    1700.5          18.2          2.14         0.6  91.5927   \n",
       "9   ...    1700.5          18.2          2.14         0.6  91.5927   \n",
       "10  ...    1700.5          18.2          2.14         0.6  91.5927   \n",
       "\n",
       "   PCT_WATER_TOT PCT_WATER_INLAND        OUTAGE.START  OUTAGE.RESTORATION  \\\n",
       "1        8.40733          5.47874 2011-07-01 17:00:00 2011-07-03 20:00:00   \n",
       "2        8.40733          5.47874 2014-05-11 18:38:00 2014-05-11 18:39:00   \n",
       "3        8.40733          5.47874 2010-10-26 20:00:00 2010-10-28 22:00:00   \n",
       "4        8.40733          5.47874 2012-06-19 04:30:00 2012-06-20 23:00:00   \n",
       "5        8.40733          5.47874 2015-07-18 02:00:00 2015-07-19 07:00:00   \n",
       "6        8.40733          5.47874 2010-11-13 15:00:00 2010-11-14 22:00:00   \n",
       "7        8.40733          5.47874 2010-07-17 20:30:00 2010-07-19 22:00:00   \n",
       "8        8.40733          5.47874 2005-06-08 04:00:00 2005-06-10 22:00:00   \n",
       "9        8.40733          5.47874 2015-03-16 07:31:00 2015-03-16 10:06:00   \n",
       "10       8.40733          5.47874 2013-06-21 17:39:00 2013-06-24 06:00:00   \n",
       "\n",
       "   IS_URBAN  \n",
       "1     False  \n",
       "2     False  \n",
       "3     False  \n",
       "4     False  \n",
       "5     False  \n",
       "6     False  \n",
       "7     False  \n",
       "8     False  \n",
       "9     False  \n",
       "10    False  \n",
       "\n",
       "[10 rows x 54 columns]"
      ]
     },
     "execution_count": 17,
     "metadata": {},
     "output_type": "execute_result"
    }
   ],
   "source": [
    "#\"is_urban\" gives if a certain outage is in an urban area or not\n",
    "outage_duration.head(10)"
   ]
  },
  {
   "cell_type": "code",
   "execution_count": 18,
   "metadata": {},
   "outputs": [
    {
     "name": "stdout",
     "output_type": "stream",
     "text": [
      "2323.765389082462 3047.6845528455283\n"
     ]
    }
   ],
   "source": [
    "# group \"is_urban\" and \"outage.duration\"\n",
    "uout_duration = outage_duration[['OUTAGE.DURATION', 'IS_URBAN']]\n",
    "x=uout_duration[uout_duration['IS_URBAN']==True][\"OUTAGE.DURATION\"].mean() #avg urban outage durations\n",
    "y=uout_duration[uout_duration['IS_URBAN']==False][\"OUTAGE.DURATION\"].mean() #avg rural outage duration\n",
    "print(x,y)"
   ]
  },
  {
   "cell_type": "code",
   "execution_count": 19,
   "metadata": {},
   "outputs": [
    {
     "data": {
      "text/html": [
       "<div>\n",
       "<style scoped>\n",
       "    .dataframe tbody tr th:only-of-type {\n",
       "        vertical-align: middle;\n",
       "    }\n",
       "\n",
       "    .dataframe tbody tr th {\n",
       "        vertical-align: top;\n",
       "    }\n",
       "\n",
       "    .dataframe thead th {\n",
       "        text-align: right;\n",
       "    }\n",
       "</style>\n",
       "<table border=\"1\" class=\"dataframe\">\n",
       "  <thead>\n",
       "    <tr style=\"text-align: right;\">\n",
       "      <th></th>\n",
       "      <th>OUTAGE.DURATION</th>\n",
       "    </tr>\n",
       "    <tr>\n",
       "      <th>IS_URBAN</th>\n",
       "      <th></th>\n",
       "    </tr>\n",
       "  </thead>\n",
       "  <tbody>\n",
       "    <tr>\n",
       "      <th>False</th>\n",
       "      <td>3047.684553</td>\n",
       "    </tr>\n",
       "    <tr>\n",
       "      <th>True</th>\n",
       "      <td>2323.765389</td>\n",
       "    </tr>\n",
       "  </tbody>\n",
       "</table>\n",
       "</div>"
      ],
      "text/plain": [
       "          OUTAGE.DURATION\n",
       "IS_URBAN                 \n",
       "False         3047.684553\n",
       "True          2323.765389"
      ]
     },
     "execution_count": 19,
     "metadata": {},
     "output_type": "execute_result"
    }
   ],
   "source": [
    "# average outage duration for \"False\":\"Rural\" and \"True\":\"Urban\"\n",
    "uout_duration.groupby('IS_URBAN').mean()"
   ]
  },
  {
   "cell_type": "code",
   "execution_count": 20,
   "metadata": {},
   "outputs": [
    {
     "data": {
      "text/plain": [
       "1       3060\n",
       "2          1\n",
       "3       3000\n",
       "4       2550\n",
       "5       1740\n",
       "        ... \n",
       "1527       0\n",
       "1529     220\n",
       "1530     720\n",
       "1532      59\n",
       "1533     181\n",
       "Name: OUTAGE.DURATION, Length: 1476, dtype: int64"
      ]
     },
     "execution_count": 20,
     "metadata": {},
     "output_type": "execute_result"
    }
   ],
   "source": [
    "uout_duration['OUTAGE.DURATION']"
   ]
  },
  {
   "cell_type": "code",
   "execution_count": 21,
   "metadata": {},
   "outputs": [
    {
     "data": {
      "text/plain": [
       "IS_URBAN\n",
       "Rural    AxesSubplot(0.125,0.125;0.775x0.755)\n",
       "Urban    AxesSubplot(0.125,0.125;0.775x0.755)\n",
       "Name: OUTAGE.DURATION, dtype: object"
      ]
     },
     "execution_count": 21,
     "metadata": {},
     "output_type": "execute_result"
    },
    {
     "data": {
      "image/png": "[encoded data removed]",
      "text/plain": [
       "<Figure size 432x288 with 1 Axes>"
      ]
     },
     "metadata": {
      "image/png": {
       "height": 263,
       "width": 417
      },
      "needs_background": "light"
     },
     "output_type": "display_data"
    }
   ],
   "source": [
    "#remove outage durations==0 as 0 indicates no outage \n",
    "uout_duration = uout_duration[uout_duration['OUTAGE.DURATION']!=0]\n",
    "r_u=uout_duration.copy()\n",
    "urban_rural=uout_duration[\"IS_URBAN\"].apply(lambda x:\"Rural\" if x==False else \"Urban\" )\n",
    "r_u[\"IS_URBAN\"]=urban_rural\n",
    "title = 'Frequency of Outages in Urban/Rural'\n",
    "(\n",
    "r_u.groupby('IS_URBAN')['OUTAGE.DURATION'] .plot(kind='density',legend=True, subplots=False, title=title)\n",
    ") #density graph shows greater number of outages in urban areas"
   ]
  },
  {
   "cell_type": "code",
   "execution_count": 22,
   "metadata": {},
   "outputs": [
    {
     "data": {
      "text/plain": [
       "CAUSE.CATEGORY\n",
       "fuel supply emergency            13484.026316\n",
       "severe weather                    3883.985215\n",
       "equipment failure                 1816.909091\n",
       "public appeal                     1468.449275\n",
       "system operability disruption      728.869919\n",
       "intentional attack                 429.980149\n",
       "islanding                          200.545455\n",
       "Name: OUTAGE.DURATION, dtype: float64"
      ]
     },
     "execution_count": 22,
     "metadata": {},
     "output_type": "execute_result"
    }
   ],
   "source": [
    "#major causes of outages\n",
    "outage_duration.groupby('CAUSE.CATEGORY')['OUTAGE.DURATION'].mean() .sort_values(ascending=False)"
   ]
  },
  {
   "cell_type": "markdown",
   "metadata": {},
   "source": [
    "### Assessment of Missingness"
   ]
  },
  {
   "cell_type": "markdown",
   "metadata": {},
   "source": [
    "In this section we will begin by assesing the missingness of OUTAGE.DURATION based on CLIMATE.REGION and CLIMATE.CATEGORY."
   ]
  },
  {
   "cell_type": "markdown",
   "metadata": {},
   "source": [
    "To begin we select the columns that we will be comparing. In the original dataset, all of these columns have missing values."
   ]
  },
  {
   "cell_type": "code",
   "execution_count": 23,
   "metadata": {
    "ExecuteTime": {
     "end_time": "2019-10-31T23:36:28.662099Z",
     "start_time": "2019-10-31T23:36:28.660016Z"
    }
   },
   "outputs": [
    {
     "data": {
      "text/plain": [
       "CLIMATE.REGION        True\n",
       "CLIMATE.CATEGORY      True\n",
       "CUSTOMERS.AFFECTED    True\n",
       "OUTAGE.DURATION       True\n",
       "dtype: bool"
      ]
     },
     "execution_count": 23,
     "metadata": {},
     "output_type": "execute_result"
    }
   ],
   "source": [
    "outages_missing = outages[['CLIMATE.REGION', 'CLIMATE.CATEGORY', 'CUSTOMERS.AFFECTED', 'OUTAGE.DURATION']]\n",
    "outages_missing.isna().any()"
   ]
  },
  {
   "cell_type": "markdown",
   "metadata": {},
   "source": [
    "To asses missingness, we will be using a permutation test with the TVD as our test statistic. To start we will be using this fucntion to calculate the TVD where:\n",
    "\n",
    "- df is the dataframe with the columns that we are testing\n",
    "- column is the column without missing values\n",
    "- test_column is the column with missing values\n",
    "- n is the number of permuations to test\n",
    "\n",
    "We will be using a significance level of 0.05 for our tests."
   ]
  },
  {
   "cell_type": "code",
   "execution_count": 24,
   "metadata": {},
   "outputs": [],
   "source": [
    "def calculate_tvd(df, column, test_column, n):\n",
    "    \n",
    "    tvds = []\n",
    "    \n",
    "    for _ in range(n):\n",
    "\n",
    "        # shuffle\n",
    "        shuffled_types = (df[column].sample(replace=False, frac=1).reset_index(drop=True))\n",
    "\n",
    "        # update the table\n",
    "        shuffled = (df.assign(**{'Shuffled CATEGORY': shuffled_types}))\n",
    "\n",
    "        # compute the tvd\n",
    "        shuffed_emp_distributions = (shuffled.pivot_table(columns=test_column, index='Shuffled CATEGORY', values=None, aggfunc='size').fillna(0).apply(lambda x:x/x.sum()))\n",
    "        tvd = np.sum(np.abs(shuffed_emp_distributions.diff(axis=1).iloc[:,-1])) / 2\n",
    "        \n",
    "        # add it to the list of results\n",
    "        tvds.append(tvd)\n",
    "    \n",
    "    return tvds"
   ]
  },
  {
   "cell_type": "markdown",
   "metadata": {},
   "source": [
    "To begin out assesment, we start by analyzing the analyze the missingness of OUTAGE.DURATION on CLIMATE.REGION."
   ]
  },
  {
   "cell_type": "code",
   "execution_count": 25,
   "metadata": {},
   "outputs": [],
   "source": [
    "# create the dataframe with the two columns that we are comparing \n",
    "df = outages[['CLIMATE.REGION']].copy().dropna()\n",
    "df['OUTAGE.DURATION_isnull'] = outages['OUTAGE.DURATION'].isnull()"
   ]
  },
  {
   "cell_type": "code",
   "execution_count": 26,
   "metadata": {},
   "outputs": [
    {
     "data": {
      "image/png": "[encoded data removed]",
      "text/plain": [
       "<Figure size 432x288 with 1 Axes>"
      ]
     },
     "metadata": {
      "image/png": {
       "height": 348,
       "width": 378
      },
      "needs_background": "light"
     },
     "output_type": "display_data"
    }
   ],
   "source": [
    "emp_distributions = (df.pivot_table(columns='OUTAGE.DURATION_isnull', index='CLIMATE.REGION', aggfunc='size').fillna(0).apply(lambda x:x / x.sum()))\n",
    "emp_distributions.plot(kind='bar');"
   ]
  },
  {
   "cell_type": "code",
   "execution_count": 27,
   "metadata": {},
   "outputs": [],
   "source": [
    "tvds = calculate_tvd(df ,'CLIMATE.REGION', 'OUTAGE.DURATION_isnull', 500)"
   ]
  },
  {
   "cell_type": "code",
   "execution_count": 28,
   "metadata": {},
   "outputs": [
    {
     "data": {
      "text/plain": [
       "0.2535212947392274"
      ]
     },
     "execution_count": 28,
     "metadata": {},
     "output_type": "execute_result"
    }
   ],
   "source": [
    "observed_tvd = np.sum(np.abs(emp_distributions.diff(axis=1).iloc[:,-1])) / 2\n",
    "observed_tvd"
   ]
  },
  {
   "cell_type": "code",
   "execution_count": 29,
   "metadata": {},
   "outputs": [
    {
     "data": {
      "image/png": "[encoded data removed]",
      "text/plain": [
       "<Figure size 432x288 with 1 Axes>"
      ]
     },
     "metadata": {
      "image/png": {
       "height": 248,
       "width": 388
      },
      "needs_background": "light"
     },
     "output_type": "display_data"
    }
   ],
   "source": [
    "pd.Series(tvds).plot(kind='hist', density=True, alpha=0.8)\n",
    "plt.scatter(observed_tvd, 0, color='red', s=40);"
   ]
  },
  {
   "cell_type": "code",
   "execution_count": 30,
   "metadata": {},
   "outputs": [
    {
     "data": {
      "text/plain": [
       "0.01"
      ]
     },
     "execution_count": 30,
     "metadata": {},
     "output_type": "execute_result"
    }
   ],
   "source": [
    "np.count_nonzero(tvds > observed_tvd) / len(tvds)"
   ]
  },
  {
   "cell_type": "markdown",
   "metadata": {},
   "source": [
    "With a p-value of ~0.016 and a significance level of 0.05, we can reject the null hypothesis. \\\n",
    "The missingness of OUTAGE.DURATION is dependent on CLIMATE.REGION"
   ]
  },
  {
   "cell_type": "markdown",
   "metadata": {},
   "source": [
    "Next, we will also be analyzing the missingness of OUTAGE.DURATION on CLIMATE.REGION."
   ]
  },
  {
   "cell_type": "code",
   "execution_count": 31,
   "metadata": {},
   "outputs": [],
   "source": [
    "# create the dataframe with the two columns that we are comparing \n",
    "df = outages[['CLIMATE.CATEGORY']].copy().dropna()\n",
    "df['OUTAGE.DURATION_isnull'] = outages['OUTAGE.DURATION'].isnull()"
   ]
  },
  {
   "cell_type": "code",
   "execution_count": 32,
   "metadata": {},
   "outputs": [
    {
     "data": {
      "image/png": "[encoded data removed]",
      "text/plain": [
       "<Figure size 432x288 with 1 Axes>"
      ]
     },
     "metadata": {
      "image/png": {
       "height": 287,
       "width": 372
      },
      "needs_background": "light"
     },
     "output_type": "display_data"
    }
   ],
   "source": [
    "emp_distributions = (df.pivot_table(columns='OUTAGE.DURATION_isnull', index='CLIMATE.CATEGORY', aggfunc='size').fillna(0).apply(lambda x:x / x.sum()))\n",
    "emp_distributions.plot(kind='bar');"
   ]
  },
  {
   "cell_type": "code",
   "execution_count": 33,
   "metadata": {},
   "outputs": [],
   "source": [
    "tvds = calculate_tvd(df ,'CLIMATE.CATEGORY', 'OUTAGE.DURATION_isnull', 500)"
   ]
  },
  {
   "cell_type": "code",
   "execution_count": 34,
   "metadata": {},
   "outputs": [
    {
     "data": {
      "text/plain": [
       "0.31846966428847967"
      ]
     },
     "execution_count": 34,
     "metadata": {},
     "output_type": "execute_result"
    }
   ],
   "source": [
    "observed_tvd = np.sum(np.abs(emp_distributions.diff(axis=1).iloc[:,-1])) / 2\n",
    "observed_tvd"
   ]
  },
  {
   "cell_type": "code",
   "execution_count": 35,
   "metadata": {},
   "outputs": [
    {
     "data": {
      "image/png": "[encoded data removed]",
      "text/plain": [
       "<Figure size 432x288 with 1 Axes>"
      ]
     },
     "metadata": {
      "image/png": {
       "height": 248,
       "width": 382
      },
      "needs_background": "light"
     },
     "output_type": "display_data"
    }
   ],
   "source": [
    "pd.Series(tvds).plot(kind='hist', density=True, alpha=0.8)\n",
    "plt.scatter(observed_tvd, 0, color='red', s=40);"
   ]
  },
  {
   "cell_type": "code",
   "execution_count": 36,
   "metadata": {},
   "outputs": [
    {
     "data": {
      "text/plain": [
       "0.0"
      ]
     },
     "execution_count": 36,
     "metadata": {},
     "output_type": "execute_result"
    }
   ],
   "source": [
    "np.count_nonzero(tvds > observed_tvd) / len(tvds)"
   ]
  },
  {
   "cell_type": "markdown",
   "metadata": {},
   "source": [
    "With a p-value of ~0.0 and a significance level of 0.05, we can reject the null hypothesis. \\\n",
    "The missingness of OUTAGE.DURATION is dependent on CLIMATE.CATEGORY\n",
    "\n",
    "What these two tests show us is that the missingness of OUTAGE.DURATION is dependent the climate that the outage happens in. Using the graphs from the previous two tests, it appears that OUTAGE.DURATION is marked null more often in warm climates and regions in the west.\n",
    "\n",
    "A possible theory for this connection is if outage durations are missing if they outage only occures for a very short time. In the EDA section we discovered that out of 1535 records, there were only 195 outages under 5 min. In warm climates the outage may not last as long since it may be easier to fix. Similarly, outages in regions in the west could be faster to fix due to having a newer power grid."
   ]
  },
  {
   "cell_type": "markdown",
   "metadata": {},
   "source": [
    "Finally we'll do a test analyzing the missingness of CUSTOMERS.AFFECTED based on CLIMATE.CATEGORY. "
   ]
  },
  {
   "cell_type": "code",
   "execution_count": 37,
   "metadata": {},
   "outputs": [],
   "source": [
    "# create the dataframe with the two columns that we are comparing\n",
    "df = outages[['CLIMATE.CATEGORY']].copy().dropna()\n",
    "df['CUSTOMERS.AFFECTED_isnull'] = outages['CUSTOMERS.AFFECTED'].isnull()"
   ]
  },
  {
   "cell_type": "code",
   "execution_count": 38,
   "metadata": {},
   "outputs": [
    {
     "data": {
      "image/png": "[encoded data removed]",
      "text/plain": [
       "<Figure size 432x288 with 1 Axes>"
      ]
     },
     "metadata": {
      "image/png": {
       "height": 287,
       "width": 372
      },
      "needs_background": "light"
     },
     "output_type": "display_data"
    }
   ],
   "source": [
    "emp_distributions = (df.pivot_table(columns='CUSTOMERS.AFFECTED_isnull', index='CLIMATE.CATEGORY', aggfunc='size').fillna(0).apply(lambda x:x / x.sum()))\n",
    "emp_distributions.plot(kind='bar');"
   ]
  },
  {
   "cell_type": "code",
   "execution_count": 39,
   "metadata": {},
   "outputs": [],
   "source": [
    "tvds = calculate_tvd(df ,'CLIMATE.CATEGORY', 'CUSTOMERS.AFFECTED_isnull', 500)"
   ]
  },
  {
   "cell_type": "code",
   "execution_count": 40,
   "metadata": {},
   "outputs": [
    {
     "data": {
      "text/plain": [
       "0.03530637347189798"
      ]
     },
     "execution_count": 40,
     "metadata": {},
     "output_type": "execute_result"
    }
   ],
   "source": [
    "observed_tvd = np.sum(np.abs(emp_distributions.diff(axis=1).iloc[:,-1])) / 2\n",
    "observed_tvd"
   ]
  },
  {
   "cell_type": "code",
   "execution_count": 41,
   "metadata": {},
   "outputs": [
    {
     "data": {
      "image/png": "[encoded data removed]",
      "text/plain": [
       "<Figure size 432x288 with 1 Axes>"
      ]
     },
     "metadata": {
      "image/png": {
       "height": 248,
       "width": 382
      },
      "needs_background": "light"
     },
     "output_type": "display_data"
    }
   ],
   "source": [
    "pd.Series(tvds).plot(kind='hist', density=True, alpha=0.8)\n",
    "plt.scatter(observed_tvd, 0, color='red', s=40);"
   ]
  },
  {
   "cell_type": "code",
   "execution_count": 42,
   "metadata": {},
   "outputs": [
    {
     "data": {
      "text/plain": [
       "0.336"
      ]
     },
     "execution_count": 42,
     "metadata": {},
     "output_type": "execute_result"
    }
   ],
   "source": [
    "np.count_nonzero(tvds > observed_tvd) / len(tvds)"
   ]
  },
  {
   "cell_type": "markdown",
   "metadata": {},
   "source": [
    "Here we get a p-value of ~0.364 which is greater than 0.05, thus we can not reject the null hypothesis.\\\n",
    "There is no connection between the missingness of CUSTOMERS.AFFECTED and CLIMATE.CATEGORY."
   ]
  },
  {
   "cell_type": "markdown",
   "metadata": {},
   "source": [
    "### Hypothesis Test"
   ]
  },
  {
   "cell_type": "markdown",
   "metadata": {},
   "source": [
    "Question:see if there is a correlation between urban areas and outage duration\n",
    "\n",
    "Null Hypothesis: The urban and rural areas are part of the same distribution\n",
    "\n",
    "Alternative Hypothesis: Urban areas tend to have longer outages than rural areas. "
   ]
  },
  {
   "cell_type": "code",
   "execution_count": 43,
   "metadata": {
    "ExecuteTime": {
     "end_time": "2019-10-31T23:36:28.666489Z",
     "start_time": "2019-10-31T23:36:28.664381Z"
    }
   },
   "outputs": [
    {
     "data": {
      "text/html": [
       "<div>\n",
       "<style scoped>\n",
       "    .dataframe tbody tr th:only-of-type {\n",
       "        vertical-align: middle;\n",
       "    }\n",
       "\n",
       "    .dataframe tbody tr th {\n",
       "        vertical-align: top;\n",
       "    }\n",
       "\n",
       "    .dataframe thead th {\n",
       "        text-align: right;\n",
       "    }\n",
       "</style>\n",
       "<table border=\"1\" class=\"dataframe\">\n",
       "  <thead>\n",
       "    <tr style=\"text-align: right;\">\n",
       "      <th></th>\n",
       "      <th>OUTAGE.DURATION</th>\n",
       "      <th>IS_URBAN</th>\n",
       "    </tr>\n",
       "  </thead>\n",
       "  <tbody>\n",
       "    <tr>\n",
       "      <th>1</th>\n",
       "      <td>3060</td>\n",
       "      <td>False</td>\n",
       "    </tr>\n",
       "    <tr>\n",
       "      <th>2</th>\n",
       "      <td>1</td>\n",
       "      <td>False</td>\n",
       "    </tr>\n",
       "    <tr>\n",
       "      <th>3</th>\n",
       "      <td>3000</td>\n",
       "      <td>False</td>\n",
       "    </tr>\n",
       "    <tr>\n",
       "      <th>4</th>\n",
       "      <td>2550</td>\n",
       "      <td>False</td>\n",
       "    </tr>\n",
       "    <tr>\n",
       "      <th>5</th>\n",
       "      <td>1740</td>\n",
       "      <td>False</td>\n",
       "    </tr>\n",
       "    <tr>\n",
       "      <th>...</th>\n",
       "      <td>...</td>\n",
       "      <td>...</td>\n",
       "    </tr>\n",
       "    <tr>\n",
       "      <th>1526</th>\n",
       "      <td>870</td>\n",
       "      <td>False</td>\n",
       "    </tr>\n",
       "    <tr>\n",
       "      <th>1529</th>\n",
       "      <td>220</td>\n",
       "      <td>False</td>\n",
       "    </tr>\n",
       "    <tr>\n",
       "      <th>1530</th>\n",
       "      <td>720</td>\n",
       "      <td>False</td>\n",
       "    </tr>\n",
       "    <tr>\n",
       "      <th>1532</th>\n",
       "      <td>59</td>\n",
       "      <td>False</td>\n",
       "    </tr>\n",
       "    <tr>\n",
       "      <th>1533</th>\n",
       "      <td>181</td>\n",
       "      <td>False</td>\n",
       "    </tr>\n",
       "  </tbody>\n",
       "</table>\n",
       "<p>1398 rows × 2 columns</p>\n",
       "</div>"
      ],
      "text/plain": [
       "      OUTAGE.DURATION  IS_URBAN\n",
       "1                3060     False\n",
       "2                   1     False\n",
       "3                3000     False\n",
       "4                2550     False\n",
       "5                1740     False\n",
       "...               ...       ...\n",
       "1526              870     False\n",
       "1529              220     False\n",
       "1530              720     False\n",
       "1532               59     False\n",
       "1533              181     False\n",
       "\n",
       "[1398 rows x 2 columns]"
      ]
     },
     "execution_count": 43,
     "metadata": {},
     "output_type": "execute_result"
    }
   ],
   "source": [
    " \n",
    "uout_duration"
   ]
  },
  {
   "cell_type": "markdown",
   "metadata": {},
   "source": [
    "Start by finding the average duration in rural and urban areas"
   ]
  },
  {
   "cell_type": "code",
   "execution_count": 44,
   "metadata": {},
   "outputs": [
    {
     "data": {
      "text/html": [
       "<div>\n",
       "<style scoped>\n",
       "    .dataframe tbody tr th:only-of-type {\n",
       "        vertical-align: middle;\n",
       "    }\n",
       "\n",
       "    .dataframe tbody tr th {\n",
       "        vertical-align: top;\n",
       "    }\n",
       "\n",
       "    .dataframe thead th {\n",
       "        text-align: right;\n",
       "    }\n",
       "</style>\n",
       "<table border=\"1\" class=\"dataframe\">\n",
       "  <thead>\n",
       "    <tr style=\"text-align: right;\">\n",
       "      <th></th>\n",
       "      <th>OUTAGE.DURATION</th>\n",
       "    </tr>\n",
       "    <tr>\n",
       "      <th>IS_URBAN</th>\n",
       "      <th></th>\n",
       "    </tr>\n",
       "  </thead>\n",
       "  <tbody>\n",
       "    <tr>\n",
       "      <th>False</th>\n",
       "      <td>3340.918004</td>\n",
       "    </tr>\n",
       "    <tr>\n",
       "      <th>True</th>\n",
       "      <td>2801.980392</td>\n",
       "    </tr>\n",
       "  </tbody>\n",
       "</table>\n",
       "</div>"
      ],
      "text/plain": [
       "          OUTAGE.DURATION\n",
       "IS_URBAN                 \n",
       "False         3340.918004\n",
       "True          2801.980392"
      ]
     },
     "execution_count": 44,
     "metadata": {},
     "output_type": "execute_result"
    }
   ],
   "source": [
    "# avg outage durations in rural and urban areas. \n",
    "uout_duration=uout_duration[uout_duration[\"OUTAGE.DURATION\"]>10]\n",
    "avg_outages = uout_duration.groupby('IS_URBAN').mean()\n",
    "avg_outages"
   ]
  },
  {
   "cell_type": "markdown",
   "metadata": {},
   "source": [
    "Calculate the observed difference"
   ]
  },
  {
   "cell_type": "code",
   "execution_count": 45,
   "metadata": {},
   "outputs": [
    {
     "data": {
      "text/plain": [
       "-538.9376114081997"
      ]
     },
     "execution_count": 45,
     "metadata": {},
     "output_type": "execute_result"
    }
   ],
   "source": [
    "obsv_diff = avg_outages.diff().iloc[-1,0]\n",
    "obsv_diff\n"
   ]
  },
  {
   "cell_type": "markdown",
   "metadata": {},
   "source": [
    "Example of one simulation"
   ]
  },
  {
   "cell_type": "code",
   "execution_count": 47,
   "metadata": {},
   "outputs": [
    {
     "data": {
      "text/html": [
       "<div>\n",
       "<style scoped>\n",
       "    .dataframe tbody tr th:only-of-type {\n",
       "        vertical-align: middle;\n",
       "    }\n",
       "\n",
       "    .dataframe tbody tr th {\n",
       "        vertical-align: top;\n",
       "    }\n",
       "\n",
       "    .dataframe thead th {\n",
       "        text-align: right;\n",
       "    }\n",
       "</style>\n",
       "<table border=\"1\" class=\"dataframe\">\n",
       "  <thead>\n",
       "    <tr style=\"text-align: right;\">\n",
       "      <th></th>\n",
       "      <th>OUTAGE.DURATION</th>\n",
       "      <th>IS_URBAN</th>\n",
       "      <th>Shuffled Outage Durations</th>\n",
       "    </tr>\n",
       "  </thead>\n",
       "  <tbody>\n",
       "    <tr>\n",
       "      <th>1</th>\n",
       "      <td>3060</td>\n",
       "      <td>False</td>\n",
       "      <td>563.0</td>\n",
       "    </tr>\n",
       "    <tr>\n",
       "      <th>3</th>\n",
       "      <td>3000</td>\n",
       "      <td>False</td>\n",
       "      <td>1620.0</td>\n",
       "    </tr>\n",
       "    <tr>\n",
       "      <th>4</th>\n",
       "      <td>2550</td>\n",
       "      <td>False</td>\n",
       "      <td>70.0</td>\n",
       "    </tr>\n",
       "    <tr>\n",
       "      <th>5</th>\n",
       "      <td>1740</td>\n",
       "      <td>False</td>\n",
       "      <td>245.0</td>\n",
       "    </tr>\n",
       "    <tr>\n",
       "      <th>6</th>\n",
       "      <td>1860</td>\n",
       "      <td>False</td>\n",
       "      <td>485.0</td>\n",
       "    </tr>\n",
       "  </tbody>\n",
       "</table>\n",
       "</div>"
      ],
      "text/plain": [
       "   OUTAGE.DURATION  IS_URBAN  Shuffled Outage Durations\n",
       "1             3060     False                      563.0\n",
       "3             3000     False                     1620.0\n",
       "4             2550     False                       70.0\n",
       "5             1740     False                      245.0\n",
       "6             1860     False                      485.0"
      ]
     },
     "execution_count": 47,
     "metadata": {},
     "output_type": "execute_result"
    }
   ],
   "source": [
    "# shuffle outage durations \n",
    "shuffle_od = uout_duration['OUTAGE.DURATION'].sample(replace=False, frac=1).reset_index(drop=True)\n",
    "df_with_shuffled = (uout_duration.assign(**{'Shuffled Outage Durations': shuffle_od}))\n",
    "# we are adding a column with shuffled durations, this is one simulation\n",
    "df_with_shuffled.head(5)"
   ]
  },
  {
   "cell_type": "markdown",
   "metadata": {},
   "source": [
    "Simulate 500 times to check if null hypothesis holds true"
   ]
  },
  {
   "cell_type": "code",
   "execution_count": 48,
   "metadata": {},
   "outputs": [],
   "source": [
    "# run simulation 500 times \n",
    "num_repetitions = 1000\n",
    "# add mean difference vals in list\n",
    "diff_mean = []\n",
    "for i in range(num_repetitions): \n",
    "    # shuffle outage duration values\n",
    "    shuffle_od = uout_duration['OUTAGE.DURATION'] .sample(replace=False, frac=1) .reset_index(drop=True)\n",
    "    shuffle_df = uout_duration.assign(**{'Shuffled Outage Durations': shuffle_od})\n",
    "\n",
    "    # calculate diff in means\n",
    "    mean_agg =shuffle_df.groupby('IS_URBAN').mean().loc[:,'Shuffled Outage Durations']\n",
    "    difference = mean_agg.diff().iloc[-1]\n",
    "    diff_mean.append(difference)"
   ]
  },
  {
   "cell_type": "markdown",
   "metadata": {},
   "source": [
    "Plot the diff mean values"
   ]
  },
  {
   "cell_type": "code",
   "execution_count": 49,
   "metadata": {},
   "outputs": [
    {
     "data": {
      "text/plain": [
       "<matplotlib.collections.PathCollection at 0x14fca02bbb0>"
      ]
     },
     "execution_count": 49,
     "metadata": {},
     "output_type": "execute_result"
    },
    {
     "data": {
      "image/png": "[encoded data removed]",
      "text/plain": [
       "<Figure size 432x288 with 1 Axes>"
      ]
     },
     "metadata": {
      "image/png": {
       "height": 263,
       "width": 404
      },
      "needs_background": "light"
     },
     "output_type": "display_data"
    }
   ],
   "source": [
    "#plot differences\n",
    "title_diff = 'Diff in Outage Durations ' \n",
    "pd.Series(diff_mean ).plot(kind='hist',density=True,title=title_diff,alpha=0.4)\n",
    "plt.scatter(obsv_diff,0,color='red',s=40)"
   ]
  },
  {
   "cell_type": "code",
   "execution_count": 50,
   "metadata": {},
   "outputs": [
    {
     "data": {
      "text/plain": [
       "0.083"
      ]
     },
     "execution_count": 50,
     "metadata": {},
     "output_type": "execute_result"
    }
   ],
   "source": [
    "#calculate pval \n",
    "p_val_outages = np.count_nonzero(diff_mean<=obsv_diff) / num_repetitions\n",
    "p_val_outages"
   ]
  },
  {
   "cell_type": "code",
   "execution_count": 51,
   "metadata": {},
   "outputs": [
    {
     "data": {
      "text/plain": [
       "' p val is 0.084 which is greater than 0.05\\nmeaning that we failed to reject the null hypothesis.'"
      ]
     },
     "execution_count": 51,
     "metadata": {},
     "output_type": "execute_result"
    }
   ],
   "source": [
    "\"\"\" p val is 0.084 which is greater than 0.05\n",
    "meaning that we failed to reject the null hypothesis.\"\"\""
   ]
  },
  {
   "cell_type": "code",
   "execution_count": 2,
   "metadata": {},
   "outputs": [
    {
     "ename": "SyntaxError",
     "evalue": "invalid syntax (<ipython-input-2-005d27bc0cc0>, line 1)",
     "output_type": "error",
     "traceback": [
      "\u001b[0;36m  File \u001b[0;32m\"<ipython-input-2-005d27bc0cc0>\"\u001b[0;36m, line \u001b[0;32m1\u001b[0m\n\u001b[0;31m    export PATH=$PATH=/Library/TeX/texbin\u001b[0m\n\u001b[0m           ^\u001b[0m\n\u001b[0;31mSyntaxError\u001b[0m\u001b[0;31m:\u001b[0m invalid syntax\n"
     ]
    }
   ],
   "source": [
    "export PATH=$PATH=/Library/TeX/texbin\n",
    "python -m jupyter nbconvert --to pdf outages.ipynb"
   ]
  },
  {
   "cell_type": "code",
   "execution_count": 77,
   "metadata": {
    "scrolled": true
   },
   "outputs": [
    {
     "name": "stdout",
     "output_type": "stream",
     "text": [
      "Collecting notebook-as-pdf\n",
      "  Downloading notebook_as_pdf-0.3.1-py3-none-any.whl (6.2 kB)\n",
      "Collecting PyPDF2\n",
      "  Downloading PyPDF2-1.26.0.tar.gz (77 kB)\n",
      "\u001b[K     |████████████████████████████████| 77 kB 2.7 MB/s eta 0:00:011\n",
      "\u001b[?25hRequirement already satisfied, skipping upgrade: nbconvert in /opt/anaconda3/lib/python3.8/site-packages (from notebook-as-pdf) (5.6.1)\n",
      "Collecting pyppeteer\n",
      "  Downloading pyppeteer-0.2.2-py3-none-any.whl (145 kB)\n",
      "\u001b[K     |████████████████████████████████| 145 kB 5.8 MB/s eta 0:00:01\n",
      "\u001b[?25hRequirement already satisfied, skipping upgrade: nbformat>=4.4 in /opt/anaconda3/lib/python3.8/site-packages (from nbconvert->notebook-as-pdf) (5.0.7)\n",
      "Requirement already satisfied, skipping upgrade: testpath in /opt/anaconda3/lib/python3.8/site-packages (from nbconvert->notebook-as-pdf) (0.4.4)\n",
      "Requirement already satisfied, skipping upgrade: entrypoints>=0.2.2 in /opt/anaconda3/lib/python3.8/site-packages (from nbconvert->notebook-as-pdf) (0.3)\n",
      "Requirement already satisfied, skipping upgrade: pandocfilters>=1.4.1 in /opt/anaconda3/lib/python3.8/site-packages (from nbconvert->notebook-as-pdf) (1.4.2)\n",
      "Requirement already satisfied, skipping upgrade: jinja2>=2.4 in /opt/anaconda3/lib/python3.8/site-packages (from nbconvert->notebook-as-pdf) (2.11.2)\n",
      "Requirement already satisfied, skipping upgrade: bleach in /opt/anaconda3/lib/python3.8/site-packages (from nbconvert->notebook-as-pdf) (3.1.5)\n",
      "Requirement already satisfied, skipping upgrade: defusedxml in /opt/anaconda3/lib/python3.8/site-packages (from nbconvert->notebook-as-pdf) (0.6.0)\n",
      "Requirement already satisfied, skipping upgrade: jupyter-core in /opt/anaconda3/lib/python3.8/site-packages (from nbconvert->notebook-as-pdf) (4.6.3)\n",
      "Requirement already satisfied, skipping upgrade: mistune<2,>=0.8.1 in /opt/anaconda3/lib/python3.8/site-packages (from nbconvert->notebook-as-pdf) (0.8.4)\n",
      "Requirement already satisfied, skipping upgrade: traitlets>=4.2 in /opt/anaconda3/lib/python3.8/site-packages (from nbconvert->notebook-as-pdf) (4.3.3)\n",
      "Requirement already satisfied, skipping upgrade: pygments in /opt/anaconda3/lib/python3.8/site-packages (from nbconvert->notebook-as-pdf) (2.6.1)\n",
      "Collecting websockets<9.0,>=8.1\n",
      "  Downloading websockets-8.1-cp38-cp38-macosx_10_9_x86_64.whl (64 kB)\n",
      "\u001b[K     |████████████████████████████████| 64 kB 5.8 MB/s eta 0:00:01\n",
      "\u001b[?25hRequirement already satisfied, skipping upgrade: tqdm<5.0.0,>=4.42.1 in /opt/anaconda3/lib/python3.8/site-packages (from pyppeteer->notebook-as-pdf) (4.47.0)\n",
      "Requirement already satisfied, skipping upgrade: appdirs<2.0.0,>=1.4.3 in /opt/anaconda3/lib/python3.8/site-packages (from pyppeteer->notebook-as-pdf) (1.4.4)\n",
      "Collecting pyee<8.0.0,>=7.0.1\n",
      "  Downloading pyee-7.0.4-py2.py3-none-any.whl (12 kB)\n",
      "Requirement already satisfied, skipping upgrade: urllib3<2.0.0,>=1.25.8 in /opt/anaconda3/lib/python3.8/site-packages (from pyppeteer->notebook-as-pdf) (1.25.9)\n",
      "Requirement already satisfied, skipping upgrade: jsonschema!=2.5.0,>=2.4 in /opt/anaconda3/lib/python3.8/site-packages (from nbformat>=4.4->nbconvert->notebook-as-pdf) (3.2.0)\n",
      "Requirement already satisfied, skipping upgrade: ipython-genutils in /opt/anaconda3/lib/python3.8/site-packages (from nbformat>=4.4->nbconvert->notebook-as-pdf) (0.2.0)\n",
      "Requirement already satisfied, skipping upgrade: MarkupSafe>=0.23 in /opt/anaconda3/lib/python3.8/site-packages (from jinja2>=2.4->nbconvert->notebook-as-pdf) (1.1.1)\n",
      "Requirement already satisfied, skipping upgrade: six>=1.9.0 in /opt/anaconda3/lib/python3.8/site-packages (from bleach->nbconvert->notebook-as-pdf) (1.15.0)\n",
      "Requirement already satisfied, skipping upgrade: webencodings in /opt/anaconda3/lib/python3.8/site-packages (from bleach->nbconvert->notebook-as-pdf) (0.5.1)\n",
      "Requirement already satisfied, skipping upgrade: packaging in /opt/anaconda3/lib/python3.8/site-packages (from bleach->nbconvert->notebook-as-pdf) (20.4)\n",
      "Requirement already satisfied, skipping upgrade: decorator in /opt/anaconda3/lib/python3.8/site-packages (from traitlets>=4.2->nbconvert->notebook-as-pdf) (4.4.2)\n",
      "Requirement already satisfied, skipping upgrade: pyrsistent>=0.14.0 in /opt/anaconda3/lib/python3.8/site-packages (from jsonschema!=2.5.0,>=2.4->nbformat>=4.4->nbconvert->notebook-as-pdf) (0.16.0)\n",
      "Requirement already satisfied, skipping upgrade: attrs>=17.4.0 in /opt/anaconda3/lib/python3.8/site-packages (from jsonschema!=2.5.0,>=2.4->nbformat>=4.4->nbconvert->notebook-as-pdf) (19.3.0)\n",
      "Requirement already satisfied, skipping upgrade: setuptools in /opt/anaconda3/lib/python3.8/site-packages (from jsonschema!=2.5.0,>=2.4->nbformat>=4.4->nbconvert->notebook-as-pdf) (49.2.0.post20200714)\n",
      "Requirement already satisfied, skipping upgrade: pyparsing>=2.0.2 in /opt/anaconda3/lib/python3.8/site-packages (from packaging->bleach->nbconvert->notebook-as-pdf) (2.4.7)\n",
      "Building wheels for collected packages: PyPDF2\n",
      "  Building wheel for PyPDF2 (setup.py) ... \u001b[?25ldone\n",
      "\u001b[?25h  Created wheel for PyPDF2: filename=PyPDF2-1.26.0-py3-none-any.whl size=61084 sha256=6df00edf5eb811bf8e923b928a7c5a98c3c857784f72af37158fe7cd884ad5a5\n",
      "  Stored in directory: /Users/srikarprayaga/Library/Caches/pip/wheels/b1/1a/8f/a4c34be976825a2f7948d0fa40907598d69834f8ab5889de11\n",
      "Successfully built PyPDF2\n",
      "Installing collected packages: PyPDF2, websockets, pyee, pyppeteer, notebook-as-pdf\n",
      "Successfully installed PyPDF2-1.26.0 notebook-as-pdf-0.3.1 pyee-7.0.4 pyppeteer-0.2.2 websockets-8.1\n",
      "Note: you may need to restart the kernel to use updated packages.\n"
     ]
    }
   ],
   "source": []
  },
  {
   "cell_type": "code",
   "execution_count": 1,
   "metadata": {},
   "outputs": [
    {
     "ename": "SyntaxError",
     "evalue": "invalid syntax (<ipython-input-1-aedefdd210e4>, line 1)",
     "output_type": "error",
     "traceback": [
      "\u001b[0;36m  File \u001b[0;32m\"<ipython-input-1-aedefdd210e4>\"\u001b[0;36m, line \u001b[0;32m1\u001b[0m\n\u001b[0;31m    jupyter-nbconvert --to PDFviaHTML outages.ipynb\u001b[0m\n\u001b[0m                           ^\u001b[0m\n\u001b[0;31mSyntaxError\u001b[0m\u001b[0;31m:\u001b[0m invalid syntax\n"
     ]
    }
   ],
   "source": []
  },
  {
   "cell_type": "code",
   "execution_count": null,
   "metadata": {},
   "outputs": [],
   "source": []
  }
 ],
 "metadata": {
  "kernelspec": {
   "display_name": "Python 3",
   "language": "python",
   "name": "python3"
  },
  "language_info": {
   "codemirror_mode": {
    "name": "ipython",
    "version": 3
   },
   "file_extension": ".py",
   "mimetype": "text/x-python",
   "name": "python",
   "nbconvert_exporter": "python",
   "pygments_lexer": "ipython3",
   "version": "3.8.3"
  }
 },
 "nbformat": 4,
 "nbformat_minor": 2
}
